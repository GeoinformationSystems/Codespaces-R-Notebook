{
 "cells": [
  {
   "cell_type": "markdown",
   "id": "50c693d5",
   "metadata": {},
   "source": [
    "# Beleg 3 - Deskriptive Statistik\n",
    "\n",
    "### Hinweise zum Dokument:\n",
    "\n",
    "\n",
    "\n",
    "1. `Äquidistante Schrift (monospaced font)` zeigt Codefragmente oder Schlüsselsymbole in R an.\n",
    "2. Texte in spitzen Klammern `< ... >` sind Platzhalter, die durch eigene Namen ersetzt werden sollen.\n",
    "3. Eingerückte Texte mit dem Titel __Tipp__ beschreiben Hinweise, wie Tastenbefehle, die Ihnen bspw. die Arbeit mit Jupyter Notebooks erleichtern können.\n",
    "4. Eingerückte Texte mit dem Titel __Hinweis__ enthalten weiterführende Hinweise, die Sie bei Interesse selbst weiterverfolgen können\n",
    "\n",
    "5. Jupyter Codeblocks zeigen ausführbaren Code an. Ein Codeblock wird mit `strg + enter` ausgeführt (siehe *Kurze Einführung Jupyter Notebooks*)\n",
    "\n",
    "6. Kommentare und Erklärungen zum R-Code werden wie in den R-Skripten selbst mit # gekennzeichnet \n"
   ]
  },
  {
   "cell_type": "markdown",
   "id": "a434d927",
   "metadata": {},
   "source": [
    "## Funktionen nutzen\n",
    "Bereits in den vorangegangenen Übungen wurden Funktionen genutzt (bspw. `round()`, `subset()` oder `hist()`). Der Aufruf dieser Funktionen erfolgt mit der Angabe des Funktionsnamens und der Übergabe von Parametern oder Daten. Die Ergebnisse der Funktionen können dann in Variablen geschrieben werden. Abhängig von der Funktion und den übergebenen Daten handelt es sich bei den zurückgegebenen Ergebnissen z. B. um einen Vektor, eine Matrix, eine Datentabelle oder eine Liste.\n",
    "\n",
    "\n",
    "```R\n",
    "\n",
    "dataRounded <- round(<Daten>,<AnzahlDerNachkommastellen>)\n",
    "```\n",
    "\n",
    "\n",
    "Die Funktion nutzt die übergebenen Daten und gibt dann das gewünschte Ergebnis zur weiteren Verwendung zurück. In diesem Fall werden die übergebenen Daten in die Variable `dataRounded` geschrieben. Die wesentlichen Funktionen zur Ermittlung der deskriptiven Statistik von Daten sind im Basispaket („base“) von R verfügbar.\n",
    "\n",
    "## Pakete\n",
    "Neben den im Basispaket zur Verfügung stehenden Funktionen gibt es für Spezialanwendungen weitere Pakete, in denen Funktionen für diese zusammengefasst sind.\n",
    "### Pakete und Funktionen suchen\n",
    "Es gibt verschiedene Suchmaschinen neben [Google](https://www.google.com), die auf [R](https://cran.r-project.org) spezialisiert sind, z. B. [RSeek](https://www.rseek.org).\n",
    "\n",
    "<div align=\"center\">\n",
    "<img src=\"Abbildungen/Abb1.png\" alt=\"Abbildung 1\" style=\"width:800px;\"/>\n",
    "\n",
    "__Abbildung 1:__ RSeek-Webseite\n",
    "</div>\n",
    "\n",
    "\n",
    "Hier müssen die interessierenden Begriffe auf Englisch gesucht werden. Zu allen Paketen existiert immer eine Dokumentation (Reference Manual), in der die Pakete und die einzelnen Funktionen erklärt werden. Neben dem Formelapparat bzw. der Beschreibung der Funktionsweise wird jeweils die zu nutzende Syntax mit angegeben. \n",
    "\n",
    "Es sollte stets geprüft werden, ob die genutzte Funktion die geforderte Formel verwendet. Oftmals werden in diesen Paketen auch Näherungsformeln oder Erweiterungen der Formeln genutzt, die zu abweichenden Ergebnissen führen.\n",
    "\n",
    "### Zusätzliche Pakete mit Funktionen installieren und laden\n",
    "Zur Nutzung von weiteren Paketen müssen diese Pakete auf dem Jupyter Notebook installiert sein. Sollte das Paket (hier bspw. das Paket „`modeest`“) dort nicht vorhanden sein, kann man es mit dem Befehl `install.packages(”modeest”)` installieren. Nach der Eingabe dieses Befehls muss man manchmal einen CRAN-Mirror (Server zum Download von Paketen) zum Download auswählen (z. B. Germany (Münster)) und den Download und die Installation starten (Internetverbindung vorausgesetzt). \n",
    "\n",
    "Mit dem Befehl `library(<Paketname>)` werden sie zur Bibliothek hinzugefügt."
   ]
  },
  {
   "cell_type": "code",
   "execution_count": null,
   "id": "9d28dad6",
   "metadata": {
    "vscode": {
     "languageId": "r"
    }
   },
   "outputs": [],
   "source": [
    "# Führen Sie diesen Codeblock aus!\n",
    "\n",
    "install.packages(\"modeest\")"
   ]
  },
  {
   "cell_type": "code",
   "execution_count": null,
   "id": "1496fa54",
   "metadata": {
    "vscode": {
     "languageId": "r"
    }
   },
   "outputs": [],
   "source": [
    "# Führen Sie diesen Codeblock aus!\n",
    "\n",
    "library(modeest)"
   ]
  },
  {
   "cell_type": "markdown",
   "id": "c253adf6",
   "metadata": {},
   "source": [
    "Hilfe und Beschreibungen können auf der Internetseite des Pakets oder unter dem Befehl `help(package = \"<Paketname>\")` gefunden werden.\n",
    "\n",
    "So kann bspw. der Modus (unimodal) der relativen Luftfeuchte (gespeichert in der Spalte RF_TU der Datentabelle dwdsr) mit der Funktion `mlv(dwdsr$RF_TU, method = \"mfv\")` berechnet werden."
   ]
  },
  {
   "cell_type": "code",
   "execution_count": null,
   "id": "7e737577",
   "metadata": {
    "vscode": {
     "languageId": "r"
    }
   },
   "outputs": [],
   "source": [
    "# Führen Sie diesen Codeblock aus!\n",
    "\n",
    "dwdsr <- read.csv2(\"../Daten/Data_Beleg3.csv\", header = TRUE)\n",
    "mlv(dwdsr$RF_TU, method = \"mfv\")"
   ]
  },
  {
   "cell_type": "markdown",
   "id": "e09f661a",
   "metadata": {},
   "source": [
    "## Interpretation der univariaten deskriptiven Statistik\n",
    "Für die Interpretation der Daten spielt es zunächst eine Rolle, welche Skalenniveaus verwendet werden. Einige Lage- und Streuungsmaße sind nicht für alle Skalenniveaus interpretierbar. So kann bspw. mit dem arithmetischen Mittelwert der Wetterstations-IDs (nominalskaliert) oder deren Standardabweichung keinerlei Aussage getroffen werden.\n",
    "Minimum (`min(<Daten>)`) und Maximum (`max(<Daten>)`) geben den Wertebereich an. Mit ihnen kann die Spannweite (`range(<Daten>)`) berechnet werden (Maximum- Minimum). Die Spannweite ist bei Daten, die sowohl positiv als auch negativ sind, immer größer als der Betrag des Minimums oder Maximums. Bei ausschließlich positiven oder negativen Daten ist die Spannweite stets kleiner oder gleich dem Betrag des Minimums (negativ) oder Maximums (positiv). Allgemein gibt die Spannweite den gesamten Bereich der Streuung an.\n",
    "\n",
    "<div align=\"center\">\n",
    "<img src=\"Abbildungen/Abb2.png\" alt=\"Abbildung 2\" style=\"width:1200px;\"/>\n",
    "\n",
    "__Abbildung 2:__ Histogramme für stündlich gemessene Temperaturwerte (links) und Luftfeuchtigkeit (rechts) in Sachsen\n",
    "</div>\n",
    "\n",
    "Der arithmetische Mittelwert (`mean(<Daten>)`) der Daten wird berechnet aus der Summe aller Datenwerte, dividiert durch die Anzahl der Daten. Der arithmetische Mittelwert hat den Nachteil, dass er durch alle Werte beeinflusst wird. Dies wirkt insbesondere dann, wenn Ausreißer (z. B. Messfehler) im Datensatz vorhanden sind.\n",
    "\n",
    "\n",
    "Der Median (`median(<Daten>)`) ist der Wert des 50%-Quantils. Dies bedeutet, dass 50% der Daten größer sind als dieser Wert und 50% kleiner. Der Median ist weniger anfällig gegen Ausreißer (robust), da nicht jeder Datenwert in die Berechnung eingeht, sondern lediglich durch die Verschiebung des Quantils wirkt (benachbarter Wert).\n",
    "\n",
    "\n",
    "Der Median ist bei linkssteilen bzw. rechtsschiefen Daten stets links vom arithmetischen Mittelwert. Umgekehrt ist der Median bei rechtssteilen bzw. linksschiefen Daten stets rechts vom arithmetischen Mittelwert. Bei symmetrisch verteilten Daten fallen arithmetischer Mittelwert und Median zusammen.\n",
    "\n",
    "<div align=\"center\">\n",
    "<img src=\"Abbildungen/Abb3.png\" alt=\"Abbildung 3\" style=\"width:1200px;\"/>\n",
    "\n",
    "__Abbildung 3:__ Histogramme für stündlich gemessene Luftfeuchtigkeit (links), Temperaturwerte (Mitte) und tägliche Niederschlagsmenge (rechts) in Sachsen\n",
    "</div>\n",
    "\n",
    "Die Untersuchung der Quantile dient der Interpretation der Streuung von Daten. Hier können bspw. durch die Differenzbildung des 25%-Quantils (`quantile(<Daten>,0.25)`) und des 75%-Quantils (`quantile(<Daten>,0.75`) die mittleren 50% (Interquartilsabstand) ermittelt werden. Aus dem Vergleich des Interquartilsabstandes und der Spannweite kann eine Aussage über die Streuung der Daten geschlossen werden. Je größer das Verhältnis zwischen Spanne und Interquartilsabstand, desto breiter sind die Daten gestreut. Es gibt dann also einen sehr stark besetzten inneren Bereich und schwach besetzte Ränder in der Verteilung. Sehr große Verhältnisse deuten auf Ausreißer (außergewöhnliche Ereignisse oder Messfehler) hin.\n",
    "\n",
    "Um eine Aussage über die Streuung von Daten machen zu können, wird die Standardabweichung (`sd(<Daten>)`) angegeben. Die Standardabweichung entspricht der mittleren quadratischen Abweichung vom Mittelwert. Die Standardabweichung ist also stets positiv definiert. Liegen Daten im selben Skalenbereich vor, können diese direkt interpretiert werden. So streut bspw. die Temperatur in Sachsen stärker als im brasilianischen Regenwald.\n",
    "\n",
    "<div align=\"center\">\n",
    "<img src=\"Abbildungen/Abb4.png\" alt=\"Abbildung 4\" style=\"width:1200px;\"/>\n",
    "\n",
    "__Abbildung 4:__ Histogramme für stündlich gemessene Temperaturwerte in Manaus (links) und Dresden (rechts).\n",
    "</div>\n",
    "\n",
    "Setzt man die Standardabweichung in Bezug zum arithmetischen Mittelwert, erhält man den Variationskoeffizienten. Dieser gibt an, wie stark die Daten streuen (Angabe in %) und dient somit einer besseren Vergleichbarkeit zwischen Daten in unterschiedlichen Skalenniveaus. Der Variationskoeffizient ist hierbei nur direkt interpretierbar, wenn die Skalen ausschließlich positiv oder negativ sind.\n",
    "\n",
    "Die Angabe von Werten und Ergebnissen der Analysen sollte stets nur mit signifikanten\n",
    "Nachkommastellen erfolgen (wie genau konnte die Messung erfolgen). Beträgt die\n",
    "Messgenauigkeit eines Thermometers 0,1 Kelvin, ist es z. B. nicht sinnvoll, die Spannweite\n",
    "mit mehr als dieser Stellenanzahl anzugeben. Bei Mittelwerten kann durch die\n",
    "Aggregation von mehreren Werten auch eine weitere Nachkommastelle angefügt\n",
    "werden. Runden können Sie die Werte mit der bereits bekannte Funktion `round(<Daten>)`."
   ]
  },
  {
   "cell_type": "markdown",
   "id": "2da19695",
   "metadata": {},
   "source": [
    "## Boxplots und Anpassung von Plots\n",
    "Einen Boxplot erzeugt man mit der Funktion `boxplot(<Daten>)`.\n",
    "Handelt es sich bei den Daten um eine Matrix oder eine Datentabelle, werden alle numerischen Spalten als einzelne Boxplots in einer Grafik dargestellt. Dies macht jedoch nur dann Sinn, wenn die Daten im gleichen Skalenniveau und Einheiten liegen (z.B. Vergleich von Messepochen)."
   ]
  },
  {
   "cell_type": "code",
   "execution_count": null,
   "id": "8ff1f803",
   "metadata": {
    "vscode": {
     "languageId": "r"
    }
   },
   "outputs": [],
   "source": [
    "# Führen Sie den folgenden Codeblock aus! \n",
    "\n",
    "boxplot(dwdsr$RF_TU, main = \"Boxplot der relativen Luftfeuchte\", ylab = \"Relative Luftfeuchte\")"
   ]
  },
  {
   "cell_type": "markdown",
   "id": "b8fde041",
   "metadata": {},
   "source": [
    "Es tritt ein Fehler auf, anscheinend haben die Daten das falsche Format. Mit dem Befehl `class(<Daten>)` kann man das Datenformat überprüfen: "
   ]
  },
  {
   "cell_type": "code",
   "execution_count": null,
   "id": "3a5f1662",
   "metadata": {
    "vscode": {
     "languageId": "r"
    }
   },
   "outputs": [],
   "source": [
    "# Führen Sie den folgenden Codeblock aus!\n",
    "\n",
    "class(dwdsr$RF_TU)"
   ]
  },
  {
   "cell_type": "markdown",
   "id": "0c9ab436",
   "metadata": {},
   "source": [
    "Die Daten sind vom Typ \"character\", man kann mit ihnen also nicht numerisch rechnen. Folgendermaßen können sie in numerische Daten umgewandelt werden: "
   ]
  },
  {
   "cell_type": "code",
   "execution_count": null,
   "id": "9083d68a",
   "metadata": {
    "vscode": {
     "languageId": "r"
    }
   },
   "outputs": [],
   "source": [
    "# Führen Sie den folgenden Codeblock aus!\n",
    "\n",
    "dwdsr$RF_TU <- as.numeric(dwdsr$RF_TU)\n",
    "\n",
    "# Anschließend kann der Befehl korrekt ausgeführt werden: \n",
    "\n",
    "boxplot(dwdsr$RF_TU, main = \"Boxplot der relativen Luftfeuchte\", ylab = \"Relative Luftfeuchte\")"
   ]
  },
  {
   "cell_type": "markdown",
   "id": "b0a25447",
   "metadata": {},
   "source": [
    "Der wichtigste Aspekt bei der Visualisierung von Daten ist die Beschriftung und Aufbereitung der Visualisierung. Daten können von Dritten nur mit diesen Informationen interpretiert werden. Alle Funktionen zur Visualisierung haben Argumente, mit denen die Visualisierungen angepasst werden können.\n",
    "\n",
    "Der Titel wird mit dem Argument `main=\" Dies ist der Titel des Diagramms\"` angegeben. Die Achsenbeschriftung erfolgt mit dem Argument `xlab=\" Dies ist der Titel der X-Achsenbeschriftung\"` bzw. `ylab=\"Dies ist der Titel der Y- Achsenbeschriftung\"`.\n",
    "\n",
    "Mit dem Befehl `col()` kann die Farbe angepasst werden. Hierzu können bspw. vordefinierte Farben einer in R definierten Farbpalette ausgewählt werden (bspw. `col=\"blue\"`) oder RGB-Werte definiert werden `col=rgb(1,0,0,1/4)`, wobei 1⁄4 hier für den Alpha-Kanal (Wertbereich [0,1]) steht, mit der die Transparenz gesteuert werden kann. Die Deckkraft entspricht also in diesem Beispiel 25 %.\n",
    "\n",
    "Mit der Funktion `abline(v=10, col = \"blue\") #vertical line` oder `abline(h=10,col=\"blue\") #horizontal line` wird eine blaue vertikale (v) bzw. horizontale (h) Linie an der Position 10 in dem Diagramm ergänzt. Mit der Funktion `points(10,10, col=\"blue\")` wird ein blauer Punkt an der Stelle 10,10 des Diagramms ergänzt. Die Geraden oder Punkte können entsprechend auch an bestimmten Werten angegeben werden"
   ]
  },
  {
   "cell_type": "code",
   "execution_count": null,
   "id": "c0230127",
   "metadata": {
    "vscode": {
     "languageId": "r"
    }
   },
   "outputs": [],
   "source": [
    "# Führen Sie den folgenden Codeblock aus!\n",
    "\n",
    "boxplot(dwdsr$RF_TU, main = \"Boxplot der relativen Luftfeuchte\", ylab = \"Relative Luftfeuchte\")\n",
    "points(mean(dwdsr$RF_TU),col=\"blue\")"
   ]
  }
 ],
 "metadata": {
  "kernelspec": {
   "display_name": "R",
   "language": "R",
   "name": "ir"
  },
  "language_info": {
   "codemirror_mode": "r",
   "file_extension": ".r",
   "mimetype": "text/x-r-source",
   "name": "R",
   "pygments_lexer": "r",
   "version": "4.2.1"
  }
 },
 "nbformat": 4,
 "nbformat_minor": 5
}
