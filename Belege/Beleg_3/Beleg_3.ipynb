{
 "cells": [
  {
   "cell_type": "markdown",
   "metadata": {},
   "source": [
    "## Abgabe\n",
    "\n",
    "Berechnen Sie die statistischen Lage- und Streuungsmaße Median, Mittelwert, Spannweite, Interquartilsabstand und Standardabweichung für die Lufttemperatur für die DWD-Station in Dresden. Zeichnen Sie mit Hilfe von R einen Boxplot. Der Boxplot soll auch das arithmetische Mittel als Kreis mit anzeigen und beschriftet sein.\n",
    "\n",
    "Stellen Sie die berechneten Maße in Form einer Tabelle (1. Spalte Name des Maßes, 2. Spalte Wert) im Beleg dar. Interpretieren Sie in einem Antwortsatz Ihre errechneten fünf Werte und treffen Sie u. a. Aussagen zur Verteilung der Werte im Wertebereich bzw. zur Symmetrie der Verteilung (wie in der Vorlesung 4 vorgestellt).\n",
    "\n",
    "Bestimmen Sie anschließend das Schiefemaß g und interpretieren Sie den Wert in einem 2. Antwortsatz, in dem Sie den errechneten Wert und die Art der Schiefe angeben (positiv bzw. negativ) und die Häufigkeitsverteilung dahingehend beschreiben (wie in der Vorlesung 4 vorgestellt).\n",
    "\n",
    "Die Antwortsätze sind in einem Jupyter Notebook abzuspeichern.\n",
    "\n",
    "Kommentieren Sie Ihr Skript sinnvoll in englischer oder deutscher Sprache. Laden Sie das Jupyter Notebook als ZIP-komprimierten Ordner in OPAL (Namenskonvention: Nachname_Vorname_Belegnummer.zip) bis zum 31.05.2022 (08:00 Uhr) hoch."
   ]
  }
 ],
 "metadata": {
  "kernelspec": {
   "display_name": "R",
   "language": "R",
   "name": "ir"
  },
  "language_info": {
   "name": "R"
  },
  "orig_nbformat": 4
 },
 "nbformat": 4,
 "nbformat_minor": 2
}
