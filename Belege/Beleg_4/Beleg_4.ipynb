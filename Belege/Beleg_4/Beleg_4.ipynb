{
 "cells": [
  {
   "cell_type": "markdown",
   "metadata": {},
   "source": [
    "## Abgabe\n",
    "\n",
    "Lesen Sie die DWD-Daten mit monatlichen Messungen für Dresden (Stations-ID = 01051) ein (Stations-ID im Namen der Datei an letzter Stelle vor der Endung .txt). Filtern Sie Lufttemperaturmessungen in 2m Höhe (Spalte MO_TT) für alle Juni-Monate im Zeitraum 01.01.2007 – 01.01.2021 und entfernen fehlerhafte Messungen (-999).\n",
    "\n",
    "Erstellen Sie für die Daten der mittleren monatlichen Lufttemperatur in 2m Höhe der Ihnen zugewiesenen Station einen QQ-Plot und interpretieren Sie den Plot in Form eines Antwortsatzes.\n",
    "\n",
    "Prüfen Sie programmatisch mittels Shapiro-Wilk-Test und Kolmogorov-Smirnov-Test, ob für die genutzten Daten eine Normalverteilung angenommen werden kann.\n",
    "\n",
    "Wenden Sie je nach Testergebnis ein geeignetes Testverfahren, t-Test bzw. Wilcoxon-Test, für die folgenden Fragestellungen an:\n",
    "\n",
    "1. Kann für die mittlere Lufttemperatur des Monats Juni in Dresden der Wert 14,5°C angenommen werden?\n",
    "\n",
    "ZUSATZAUFGABEN (je 0,5 Punkte):\n",
    "\n",
    "2. Kann für die mittlere Lufttemperatur des Monats Juni angenommen werden, dass der Wert >= 15°C ist?\n",
    "\n",
    "3. Kann angenommen werden, dass die mittleren Lufttemperaturen des Monats Juni in Dresden und auf dem Fichtelberg (Stations-ID = 1358) gleich sind? Setzen Sie den Konfidenz-Level auf 0,9.\n",
    "\n",
    "Beantworten Sie die 1-3 Fragen mit Hilfe der vorgestellten Funktionen in R und stellen Sie die Ergebnisse in Form einer Tabelle wie folgt zusammen:\n"
   ]
  },
  {
   "cell_type": "markdown",
   "metadata": {},
   "source": [
    "\n",
    "| Aufgabe | Testergebnisse Normalverteilung | Gewähltes Testverfahren | p-Wert | Interpretation = Annahme/Ablehnung<br>Nullhypothese + Begründung<br>(Antwortsatz) |\n",
    "|-|-|-|-|-|\n",
    "|1) | ... | ... | ... | ... |\n",
    "| ... | ... | ... | ... |... |"
   ]
  }
 ],
 "metadata": {
  "kernelspec": {
   "display_name": "R",
   "language": "R",
   "name": "ir"
  },
  "language_info": {
   "name": "R"
  },
  "orig_nbformat": 4
 },
 "nbformat": 4,
 "nbformat_minor": 2
}
