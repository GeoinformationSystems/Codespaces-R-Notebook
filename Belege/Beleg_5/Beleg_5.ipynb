{
 "cells": [
  {
   "cell_type": "markdown",
   "metadata": {},
   "source": [
    "# Beleg 5 – Korrelation und lineare Regression\n",
    "\n",
    "### Hinweise zum Dokument:\n",
    "\n",
    "\n",
    "\n",
    "1. `Äquidistante Schrift (monospaced font)` zeigt Codefragmente oder Schlüsselsymbole in R an.\n",
    "2. Texte in spitzen Klammern `< ... >` sind Platzhalter, die durch eigene Namen ersetzt werden sollen.\n",
    "4. Eingerückte Texte mit dem Titel __Tipp__ beschreiben Hinweise, wie Tastenbefehle, die Ihnen bspw. die Arbeit mit Jupyter Notebooks erleichtern können.\n",
    "5. Eingerückte Texte mit dem Titel __Hinweis__ enthalten weiterführende Hinweise, die Sie bei Interesse selbst weiterverfolgen können\n",
    "\n",
    "6. Jupyter Codeblocks zeigen ausführbaren Code an. Ein Codeblock wird mit `strg + enter` ausgeführt (siehe *Kurze Einführung Jupyter Notebooks*)\n",
    "\n",
    "7. Kommentare und Erklärungen zum R-Code werden wie in den R-Skripten selbst mit # gekennzeichnet "
   ]
  },
  {
   "cell_type": "markdown",
   "metadata": {},
   "source": [
    "## Korrelation und Koeffizienten\n",
    "Eine Korrelation beschreibt einen (ungerichteten) Zusammenhang zwischen zwei oder mehreren Variablen. Mittels verschiedener Koeffizienten (Maße) kann dieser Zusammenhang beschrieben werden. Korrelationstests liefern Aussagen darüber, ob eine Beziehung zwischen den Variablen zufällig ist oder nicht.\n",
    "\n",
    "### Rangkorrelationskoeffizient nach Spearman ($r_s$)\n",
    "\n",
    "Der Rangkorrelationskoeffizient nach Spearman ist ein parameterfreier Korrelationskoeffizient, der auf ordinale und metrische Variablen angewendet werden kann. Er vergleicht paarweise Rangzahlen und bestimmt deren Differenzen, wobei geringe Rangdifferenzen auf einen positiven Zusammenhang („gemeinsames Wachsen“) und große Rangdifferenzen auf einen negativen Zusammenhang („gegenläufiges Wachsen“) hinweisen. Die Berechnung des Rangkorrelationskoeffizienten nach Spearman erfolgt über den Befehl `cor.test(<zuKorrelierendeDaten1>, <zuKorrelierendeDaten2>, method=\"spearman\")`. Am Beispiel der DWD-Daten für die Messung der Lufttemperatur und der relativen Feuchte am 21.07.2016 sehen Befehl und Ausgabe von R wie folgt aus:"
   ]
  },
  {
   "cell_type": "code",
   "execution_count": null,
   "metadata": {
    "tags": [],
    "vscode": {
     "languageId": "r"
    }
   },
   "outputs": [],
   "source": [
    "# Führen Sie diesen Codeblock aus!\n",
    "\n",
    "data_20160721 <- read.csv(file = \"../Daten/5_data 20160721.txt\", header = TRUE)\n",
    "cor.test(data_20160721$TT_TU, data_20160721$RF_TU, method=\"spearman\")"
   ]
  },
  {
   "cell_type": "markdown",
   "metadata": {},
   "source": [
    "Es besteht mit einer Irrtumswahrscheinlichkeit von 5% ein signifikanter negativer Zusammenhang zwischen der Temperatur und der relativen Feuchte, die am 21.07.2016 an sächsischen DWD-Stationen gemessen wurden; $p<0,05$ und $r_s=-0,73$.\n",
    "\n",
    "### Rangkorrelationskoeffizient nach Kendall (τ)\n",
    "Der Rangkorrelationskoeffizient nach Kendall ist Korrelationskoeffizient für ordinale und metrische Variablen. Die Rangzahlen in einer verbundenen Stichprobe werden jeweils paarweise verglichen und vereinfacht wird aus den Anzahlen der übereinstimmenden bzw. nicht übereinstimmenden Rangzahlen der ein parameterfreier Korrelationskoeffizient 𝜏 bestimmt. \n",
    "Die Berechnung des Rangkorrelationskoeffizienten nach Kendall erfolgt über den Befehl `cor.test(<zuKorrelierendeDaten1>, <zuKorrelierendeDaten2>, method=\"kendall\")`.\n",
    "Am Beispiel der DWD-Daten für die Messung der Lufttemperatur und der relativen Feuchte am 21.07.2016 sehen Befehl und Ausgabe von R wie folgt aus:"
   ]
  },
  {
   "cell_type": "code",
   "execution_count": null,
   "metadata": {
    "vscode": {
     "languageId": "r"
    }
   },
   "outputs": [],
   "source": [
    "# Führen Sie diesen Codeblock aus!\n",
    "\n",
    "cor.test(data_20160721$TT_TU, data_20160721$RF_TU, method=\"kendall\")"
   ]
  },
  {
   "cell_type": "markdown",
   "metadata": {},
   "source": [
    "Es besteht mit einer Irrtumswahrscheinlichkeit von 5% ein signifikanter negativer Zusammenhang zwischen der Temperatur und der relativen Feuchte, die am 21.07.2016 an sächsischen DWD-Stationen gemessen wurden, $p<0,05$ und $τ=-0,55$.\n",
    "\n",
    "### Produkt-Moment-Korrelationskoeffizient nach Pearson ($r_{X,Y}$)\n",
    "Der Produkt-Moment-Korrelationskoeffizient nach Pearson misst den (linearen) Zusammenhang zwischen zwei metrisch skalierten, verbundenen, bi-normalverteilten Zufallsvariablen. Er wird berechnet, indem die Kovarianz mit den Standardabweichungen normiert wird und nimmt Werte zwischen -1 (stark negative Korrelation) und 1 (stark positive Korrelation) an. Werte um die 0 bedeuten, dass kein (linearer) Zusammenhang zwischen den Variablen besteht. Dieser Korrelationskoeffizient setzt eine bivariate Normalverteilung voraus, wobei in der Praxis angenommen wird, dass diese vorliegt, wenn beide Variablen normalverteilt sind. Daher sollten zuvor beide Variablen die Annahme der Normalverteilung geprüft werden (siehe Beleg 4), z. B. mittels Shapiro-Wilk- Test (`shapiro.test()`) und/oder Kolmogorov-Smirnov-Test (`ks.test()`).\n",
    "\n",
    "Anschließend kann die Berechnung in R ebenfalls mit dem Befehl `cor.test()` erfolgen, wobei als Methode (`method`) der Name „pearson“ angegeben werden muss."
   ]
  },
  {
   "cell_type": "markdown",
   "metadata": {},
   "source": [
    "\n",
    "\n",
    "## Einfache lineare Regression\n",
    "Korrelationskoeffizienten geben den ungerichteten Zusammenhang (Stärke, Signifikanz) zwischen zwei statistischen Variablen an. Besteht ein signifikanter Zusammenhang, dann kann ggf. ein gerichteter Zusammenhang angenommen werden, d. h. eine Schätzung der einen (Y) auf Grundlage der anderen Zufallsvariable (X) erfolgen. Ein einfaches lineares Regressionsmodell ermöglicht eine solche Schätzung mittels einer Geradengleichung: $y_i* = f(x_i) = a + bx_i$, mit dem Regressionskoeffizienten b und der Regressionskonstante a.\n",
    "\n",
    "\n",
    "### Regressionsmodell und -gleichung\n",
    "In R wird ein einfaches lineares Regressionsmodell über den Befehl `lm(<Zielvariable> ~ <Prädiktorvariable>, data=<Datentabelle>)`berechnet. Der Zusammenhang zwischen der Prädiktorvariable (X) und der Antwortvariablen (Y) wird dabei mit dem Tilde-Zeichen (~) angegeben: Y~X („Y wird beeinflusst von X“). Die Regressionsgleichung sollte grundsätzlich immer in die kausale (verursachende) Richtung weisen (Beispiel: Abhängigkeit des Dürregrads (Y) des Bodens von der gefallenen Regenmenge (X), nicht umgekehrt).\n",
    "\n",
    "Für den Zusammenhang zwischen Lufttemperatur und relativer Feuchte für die Messungen der DWD-Stationen am 21.07.2016 erzeugt der folgende R-Code ein solches Modell und speichert es in der Variablen dwd_model:"
   ]
  },
  {
   "cell_type": "code",
   "execution_count": null,
   "metadata": {
    "vscode": {
     "languageId": "r"
    }
   },
   "outputs": [],
   "source": [
    "# Führen Sie diesen Codeblock aus!\n",
    "\n",
    "dwd_model <- lm(RF_TU~TT_TU, data=data_20160721)"
   ]
  },
  {
   "cell_type": "markdown",
   "metadata": {},
   "source": [
    "R speichert verschiedene Parameter in dem Modell-Objekt (hier `dwd_model`; Datentyp Liste), wie den Regressionskoeffizienten inklusive der Regressionskonstante (im Listenelement 'coefficients') oder die Abweichungen der Modellvorhersagen von den Daten (im Listenelement 'residuals'; auch Residuen genannt).\n",
    "Mit dem Befehl `str(<Modell>)`können die Parameter eingesehen werden:"
   ]
  },
  {
   "cell_type": "code",
   "execution_count": null,
   "metadata": {
    "vscode": {
     "languageId": "r"
    }
   },
   "outputs": [],
   "source": [
    "# Führen Sie diesen Codeblock aus!\n",
    "\n",
    "str(dwd_model)"
   ]
  },
  {
   "cell_type": "markdown",
   "metadata": {},
   "source": [
    "Eine Übersicht der wichtigsten Merkmale des Modells kann mit dem Befehl `summary(<Modell>)` in der Konsole ausgegeben werden (siehe nächste Ausgabe). Die Schätzer (Estimate) für die Regressionskonstante bzw. (bei multipler Regressionsanalyse) Regressionskoeffizienten lassen sich im Bereich „Coefficients“ (rote Markierung) ablesen. Die Regressionskonstante wird als „Intercept“ bezeichnet (y-Achsenabschnitt). Anschließend folgen die Regressionskoeffizienten für alle Prädiktorvariablen, in diesem Fall die Luftfeuchte (TT_TU). Es ergibt sich für die Schätzung der relativen Feuchte auf Basis des Lufttemperaturwertes das Modell y = 142,25 - 3,14 * x. Informationen zu den Abweichungen der tatsächlich gemessenen Daten von der Regressionsgeraden (Residuen) werden oberhalb, unter der Bezeichnung „Residuals“ aufgeführt."
   ]
  },
  {
   "cell_type": "code",
   "execution_count": null,
   "metadata": {
    "vscode": {
     "languageId": "r"
    }
   },
   "outputs": [],
   "source": [
    "# Führen Sie diesen Codeblock aus!\n",
    "\n",
    "summary(dwd_model)"
   ]
  },
  {
   "cell_type": "markdown",
   "metadata": {},
   "source": [
    "### Streudiagramm und Visualisierung\n",
    "Ein Streudiagramm mit Regressionsgerade (die Linie, die sich aus der Geradengleichung ergibt) ist ein effizientes Werkzeug, um den Zusammenhang zwischen zwei Variablen visuell darzustellen. Die nächste Ausgabe zeigt den Zusammenhang zwischen Lufttemperatur und relativer Feuchte für die Messungen an sächsischen DWD-Stationen am 21.07.2016 und die Regressionsgerade des oben erstellten Modells (dwd_model). Die Messwerte der einzelnen Stationen sind als schwarze leere Kreise dargestellt, die Regressionsgerade ist als blaue Linie visualisiert. Die dünnen, rot gestrichelten Linien sind die Konfidenzintervalle (95%-Level). Sie beziehen sich auf die Genauigkeit, mit der das Modell erstellt wurde (d. h. „wie die blaue Regressionsgerade verläuft“). Die dickeren, orange gestrichelten Linien sind die Vorhersageintervalle. Sie beschreiben die Unsicherheiten des Modells in Bezug auf die vorhergesagten Werte. Diese liegen mit einer Wahrscheinlichkeit von 95% innerhalb des oberen und unteren Vorhersageintervalls.\n",
    "\n",
    "Bei der Darstellung der Regressionsgeraden (und der Vorhersage- bzw. Konfidenzintervalle) ist darauf zu achten, dass diese nicht über den Wertebereich (Prädiktorvariable) der dem Modell zugrunde liegenden Daten hinausreicht, da das Modell strenggenommen nur in diesem Wertebereich „gilt“, d. h. zuverlässige Vorhersagen liefern kann (-> Interpolation zuverlässig, Extrapolation nicht zuverlässig). Deshalb wird zunächst mit dem Befehl `seq()` eine Sequenz von Werten innerhalb des Wertebereichs der Prädiktorvariablen erstellt (hier: Lufttemperatur) und mit Hilfe der `predict.lm()`-Funktion die entsprechenden Schätzwerte für die Zielvariable (hier: relative Feuchte) berechnet. Mit der `lines()`-Funktion können diese anschließend als Linie im Diagramm eingezeichnet werden. Die Darstellung der Vorhersage- (`interval=\"prediction\"`) bzw. Konfidenzintervalle (`interval=\"confidence\"`) erfolgt analog. Weitere Informationen zur `predict.lm()`-Funktion finden Sie mit der `help()`-Funktion oder im Internet."
   ]
  },
  {
   "cell_type": "code",
   "execution_count": null,
   "metadata": {
    "vscode": {
     "languageId": "r"
    }
   },
   "outputs": [],
   "source": [
    "# Führen Sie diesen Codeblock aus!\n",
    "\n",
    "# Scatter plot of temperature and relative humidity \n",
    "plot(data_20160721$RF_TU~data_20160721$TT_TU, xlab=\"Lufttemperatur [°C]\", ylab=\"rel. Luftfeuchte [%]\", main=\"Messwerte am 21.07.2016\")\n",
    "# Draw regression line and prediction interval to existing plot \n",
    "new_temps <- seq(min(data_20160721$TT_TU, na.rm=T), max(data_20160721$TT_TU, na.rm=T), 0.1) \n",
    "preds <- predict.lm(dwd_model, newdata = data.frame(TT_TU = new_temps), interval= \"prediction\")\n",
    "lines(new_temps, preds[,1], lwd=2, col=\"cornflowerblue\") \n",
    "lines(new_temps, preds[,2], lwd=2, col=\"orange\", lty=2) \n",
    "lines(new_temps, preds[,3], lwd=2, col=\"orange\", lty=2)\n",
    "\n",
    "# Draw confidence interval to plot existing plot\n",
    "preds_c <- predict.lm(dwd_model, newdata = data.frame(TT_TU = new_temps), interval= \"confidence\")\n",
    "lines(new_temps, preds_c[,2], lwd=1, col=\"red\", lty=2)\n",
    "lines(new_temps, preds_c[,3], lwd=1, col=\"red\", lty=2)"
   ]
  },
  {
   "cell_type": "markdown",
   "metadata": {},
   "source": [
    "Das Regressionsmodell kann auch genutzt werden, um Prognosen für bestimmte Werte der Prädiktorvariable zu berechnen. In R erfolgt eine solche Berechnung (für ein einfaches lineares Modell) mit Hilfe des Befehls `predict.lm()`. Für das Modell (`dwd_model`) zur Schätzung der relativen Feuchte (y*) auf Basis der an allen DWD-Stationen gemessenen Lufttemperaturwerte (x) am 21.07.2016 liefert der folgende Befehl eine Schätzung – inklusive des unteren (`lwr`) und oberen (`upr`) Vorhersageintervalls – für die drei Temperaturwerte 16,9°C, 19,6°C und 21,8°C:"
   ]
  },
  {
   "cell_type": "code",
   "execution_count": null,
   "metadata": {
    "vscode": {
     "languageId": "r"
    }
   },
   "outputs": [],
   "source": [
    "# Führen Sie diesen Codeblock aus!\n",
    "\n",
    "predict.lm(dwd_model, newdata=data.frame(TT_TU=c(16.9,19.6,21.8)), interval=\"prediction\")"
   ]
  },
  {
   "cell_type": "markdown",
   "metadata": {},
   "source": [
    "## Belegaufgabe (-> OPAL)\n",
    "\n",
    "Lesen Sie die DWD-Messdaten mit stündlichen Messungen und Stationsinformationen für alle DWD-Stationen in Sachsen (Datei 5_Messdaten_mitStationsinformationen.txt) ein. Filtern Sie die Messdaten für Ihren entsprechenden Tag und entfernen Sie fehlerhafte Temperaturmessungen (- 999) und arbeiten Sie mit diesen Daten weiter.\n",
    "\n",
    "| **Anfangsbuchstabe Nachname** \t| **Datum und Uhrzeit** \t|\n",
    "|-------------------------------\t|-----------------------\t|\n",
    "| A-C                           \t| 12.07.2016 um 12 Uhr  \t|\n",
    "| D-F                           \t| 26.07.2016 um 12 Uhr  \t|\n",
    "| G-I                           \t| 29.07.2016 um 12 Uhr  \t|\n",
    "| J-L                           \t| 03.08.2017 um 12 Uhr  \t|\n",
    "| M-O                           \t| 07.08.2017 um 12 Uhr  \t|\n",
    "| P-R                           \t| 11.08.2017 um 12 Uhr  \t|\n",
    "| S-U                           \t| 15.01.2018 um 12 Uhr  \t|\n",
    "| V-Z                           \t| 19.01.2018 um 12 Uhr  \t|"
   ]
  },
  {
   "cell_type": "markdown",
   "metadata": {},
   "source": [
    ">**Hinweis:** Das Messdatum ist in der Spalte `MESS_DATUM` als zusammengesetzte Zahl aus `<JahrMonatTagUhrzeit>` beschrieben (vorangegangene Übung).\n",
    "\n",
    "Erstellen Sie ein Streudiagramm für die Lufttemperatur (y-Achse) und Stationshöhe (x- Achse).\n",
    "\n",
    "Berechnen Sie die Rangkorrelationskoeffizienten nach Spearman und Kendall und ggf. auch den Produkt-Moment-Korrelationskoeffizient nach Pearson, um zu überprüfen, ob ein signifikanter Zusammenhang zwischen der Lufttemperatur und der Stationshöhe besteht. Prüfen Sie vor der Verwendung des Pearson Produkt-Moment- Korrelationskoeffizient, ob die Voraussetzungen zur Anwendung erfüllt sind.\n",
    "\n",
    ">**Hinweis:** Aufgrund des kleinen Stichprobenumfangs sollten Sie den Shapiro-Wilk-Test einsetzen, den Sie aus dem letzten Beleg und der Vorlesung bereits kennen.\n",
    "\n",
    "Interpretieren Sie die Ergebnisse in Form eines Antwortsatzes. Gehen Sie dabei auch auf das Streudiagramm ein.\n",
    "\n",
    ">**Hinweis:** Geben Sie zur Interpretation der berechneten Korrelationskoeffizienten mindestens $r_s$ und 𝜏 und ggf. auch $r_{X,Y}$ sowie den jeweiligen p-Wert an. Geben Sie auch an, aus welchen Gründen Sie den Produkt-Moment-Korrelationskoeffizienten nach Pearson verwenden bzw. nicht verwendet haben.\n",
    "\n",
    "Erstellen Sie ein einfaches lineares Regressionsmodell für den Zusammenhang zwischen Lufttemperatur (Zielvariable) und Stationshöhe (Prädiktorvariable).\n",
    "\n",
    "Geben Sie die Regressionsgleichung und den größten Abweichungsbetrag zwischen Mess- und Schätzwert (= „Betrag des Residuums“) für das berechnete Modell in einem Antwortsatz an.\n",
    "\n",
    "Zeichnen Sie die Regressionsgerade sowie das obere und untere Vorhersageintervall farbig in das oben erstellte Streudiagramm ein.\n",
    "Berechnen Sie mit Hilfe der `predict()`-Funktion Schätzwerte für die Temperatur auf Basis von drei selbst gewählten Höhenwerten (Interpolation!).\n",
    "Geben Sie bitte in einem Antwortsatz an, wie Sie die Qualität der geschätzten Werte (in Bezug auf die reale Werte) einschätzen?\n",
    "\n",
    "Die Antwortsätze sind in einem PDF-Dokument zusammen mit einem Screenshot (bzw. Abbildung) des Streudiagramms (inkl. Regressionsgerade und Vorhersageintervalle) abzuspeichern.\n",
    "Kommentieren Sie Ihr Skript sinnvoll in englischer oder deutscher Sprache. Laden Sie das R-Skript und das PDF-Dokument als ZIP-komprimierten Ordner in OPAL **(Namenskonvention: Nachname_Vorname_Belegnummer.zip)** bis zum **05.07.2022 (08:00 Uhr)** hoch.\n",
    "\n"
   ]
  }
 ],
 "metadata": {
  "kernelspec": {
   "display_name": "R",
   "language": "R",
   "name": "ir"
  },
  "language_info": {
   "codemirror_mode": "r",
   "file_extension": ".r",
   "mimetype": "text/x-r-source",
   "name": "R",
   "pygments_lexer": "r",
   "version": "4.2.1"
  },
  "orig_nbformat": 4
 },
 "nbformat": 4,
 "nbformat_minor": 2
}
