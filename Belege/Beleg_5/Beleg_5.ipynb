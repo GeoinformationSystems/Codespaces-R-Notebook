{
 "cells": [
  {
   "cell_type": "markdown",
   "id": "8432b552",
   "metadata": {},
   "source": [
    "## Abgabe (-> OPAL)\n",
    "\n",
    "Lesen Sie die DWD-Messdaten mit stündlichen Messungen und Stationsinformationen für alle DWD-Stationen in Sachsen (Datei 5_Messdaten_mitStationsinformationen.txt) ein. Filtern Sie die Messdaten für Ihren entsprechenden Tag und entfernen Sie fehlerhafte Temperaturmessungen (- 999) und arbeiten Sie mit diesen Daten weiter.\n",
    "\n",
    "| **Anfangsbuchstabe Nachname** \t| **Datum und Uhrzeit** \t|\n",
    "|-------------------------------\t|-----------------------\t|\n",
    "| A-C                           \t| 12.07.2016 um 12 Uhr  \t|\n",
    "| D-F                           \t| 26.07.2016 um 12 Uhr  \t|\n",
    "| G-I                           \t| 29.07.2016 um 12 Uhr  \t|\n",
    "| J-L                           \t| 03.08.2017 um 12 Uhr  \t|\n",
    "| M-O                           \t| 07.08.2017 um 12 Uhr  \t|\n",
    "| P-R                           \t| 11.08.2017 um 12 Uhr  \t|\n",
    "| S-U                           \t| 15.01.2018 um 12 Uhr  \t|\n",
    "| V-Z                           \t| 19.01.2018 um 12 Uhr  \t|"
   ]
  },
  {
   "cell_type": "markdown",
   "metadata": {},
   "source": [
    ">**Hinweis:** Das Messdatum ist in der Spalte `MESS_DATUM` als zusammengesetzte Zahl aus `<JahrMonatTagUhrzeit>` beschrieben (vorangegangene Übung).\n",
    "\n",
    "Erstellen Sie ein Streudiagramm für die Lufttemperatur (y-Achse) und Stationshöhe (x- Achse).\n",
    "\n",
    "Berechnen Sie die Rangkorrelationskoeffizienten nach Spearman und Kendall und ggf. auch den Produkt-Moment-Korrelationskoeffizient nach Pearson, um zu überprüfen, ob ein signifikanter Zusammenhang zwischen der Lufttemperatur und der Stationshöhe besteht. Prüfen Sie vor der Verwendung des Pearson Produkt-Moment- Korrelationskoeffizient, ob die Voraussetzungen zur Anwendung erfüllt sind.\n",
    "\n",
    ">**Hinweis:** Aufgrund des kleinen Stichprobenumfangs sollten Sie den Shapiro-Wilk-Test einsetzen, den Sie aus dem letzten Beleg und der Vorlesung bereits kennen.\n",
    "\n",
    "Interpretieren Sie die Ergebnisse in Form eines Antwortsatzes. Gehen Sie dabei auch auf das Streudiagramm ein.\n",
    "\n",
    ">**Hinweis:** Geben Sie zur Interpretation der berechneten Korrelationskoeffizienten mindestens $r_s$ und 𝜏 und ggf. auch $r_{X,Y}$ sowie den jeweiligen p-Wert an. Geben Sie auch an, aus welchen Gründen Sie den Produkt-Moment-Korrelationskoeffizienten nach Pearson verwenden bzw. nicht verwendet haben.\n",
    "\n",
    "Erstellen Sie ein einfaches lineares Regressionsmodell für den Zusammenhang zwischen Lufttemperatur (Zielvariable) und Stationshöhe (Prädiktorvariable).\n",
    "\n",
    "Geben Sie die Regressionsgleichung und den größten Abweichungsbetrag zwischen Mess- und Schätzwert (= „Betrag des Residuums“) für das berechnete Modell in einem Antwortsatz an.\n",
    "\n",
    "Zeichnen Sie die Regressionsgerade sowie das obere und untere Vorhersageintervall farbig in das oben erstellte Streudiagramm ein.\n",
    "Berechnen Sie mit Hilfe der `predict()`-Funktion Schätzwerte für die Temperatur auf Basis von drei selbst gewählten Höhenwerten (Interpolation!).\n",
    "Geben Sie bitte in einem Antwortsatz an, wie Sie die Qualität der geschätzten Werte (in Bezug auf die reale Werte) einschätzen?\n",
    "\n",
    "Die Antwortsätze sind in einem PDF-Dokument zusammen mit einem Screenshot (bzw. Abbildung) des Streudiagramms (inkl. Regressionsgerade und Vorhersageintervalle) abzuspeichern.\n",
    "Kommentieren Sie Ihr Skript sinnvoll in englischer oder deutscher Sprache. Laden Sie das R-Skript und das PDF-Dokument als ZIP-komprimierten Ordner in OPAL **(Namenskonvention: Nachname_Vorname_Belegnummer.zip)** bis zum **05.07.2022 (08:00 Uhr)** hoch.\n",
    "\n"
   ]
  }
 ],
 "metadata": {
  "kernelspec": {
   "display_name": "R",
   "language": "R",
   "name": "ir"
  },
  "language_info": {
   "name": "R"
  },
  "orig_nbformat": 4
 },
 "nbformat": 4,
 "nbformat_minor": 2
}
