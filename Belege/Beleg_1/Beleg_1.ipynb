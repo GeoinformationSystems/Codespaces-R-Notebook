{
 "cells": [
  {
   "cell_type": "markdown",
   "metadata": {},
   "source": [
    "## Abgabe (3 Punkte -> OPAL)\n",
    "Definieren Sie in R eine Datentabelle `measurements`, die 15 zufällig erzeugte (nicht manuell eingetippte) Messpunkte enthält (analog Abbildung 4). Jeder Messpunkt besteht aus einer Ortsangabe in Gauß-Krüger-Koordinaten (Rechtswert 4.500.000 - 4.600.000 m und Hochwert 5.500.000 - 5.700.000 m) und einem Temperatur-Wert (von -6,0°C bis 37,0°C). Runden Sie entsprechend Rechts- und Hochwerte auf ganze Zahlen sowie die Temperaturwerte auf eine Nachkommastelle. Lassen Sie sich die ersten drei Messpunkte auf der Konsole ausgeben. Kommentieren Sie den Quellcode mit mind. zwei Kommentaren (bspw. zum Anlegen der Datentabelle)"
   ]
  }
 ],
 "metadata": {
  "kernelspec": {
   "display_name": "R",
   "language": "R",
   "name": "ir"
  },
  "language_info": {
   "name": "R",
   "version": "3.11.0"
  },
  "orig_nbformat": 4,
  "vscode": {
   "interpreter": {
    "hash": "f8af5612b9ad6ed3e9eec80b89adf095f90014de1323c15009f2afd3061dd480"
   }
  }
 },
 "nbformat": 4,
 "nbformat_minor": 2
}
