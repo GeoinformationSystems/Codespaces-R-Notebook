{
 "cells": [
  {
   "cell_type": "markdown",
   "id": "c591b304",
   "metadata": {},
   "source": [
    "\n",
    "# Beleg 1 – Datentypen\n",
    "\n",
    "### Hinweise zum Dokument:\n",
    "\n",
    "1. **Fette Schrift** beinhalten die Bezeichnungen der Schaltflächen in RStudio bzw. Schlüsselwörter in R#\n",
    "2. Texte in spitzen Klammern < ... > sind Platzhalter, die durch eigene Namen ersetzt werden sollen\n",
    "4. Texte in *kursiver Schrift* beschreiben Hinweise, wie Tastenbefehle, die Ihnen bspw. die Arbeit mit RStudio erleichtern können.\n",
    "5. Texte in ***fetter kursiver Schrift*** enthalten weiterführende Hinweise, die Sie bei Interesse selbst weiterverfolgen können\n",
    "6. Zeilen, die mit > beginnen, bezeichnen ausführbaren R-Code, z. B. über die Console von RStudio; Zeilen, die mit [1] bzw. [n] (n = natürl. Zahl) beginnen, markieren die Ausgaben von R auf der Console\n",
    "7.  Kommentare und Erklärungen zum R-Code werden wie in den R-Skripten selbst mit # gekennzeichnet \n",
    "\n",
    "Werte müssen nicht immer, wie in Übung 0 gezeigt, direkt auf der Konsole ausgegeben werden (print()), sondern lassen sich auch als Variablen für die weitere Nutzung speichern. Der Zuweisungsoperator <- weist einer Variablen einen Wert zu. (Alternativ kann das = Zeichen genutzt werden (station_height = 227). Hiervon wird aber abgeraten (siehe [Styleguide](https://jef.works/R-style-guide/))"
   ]
  },
  {
   "cell_type": "code",
   "execution_count": 5,
   "id": "a06845fc",
   "metadata": {},
   "outputs": [],
   "source": [
    "station_height <- 227 #Stationshöhe DD-Klotzsche"
   ]
  },
  {
   "cell_type": "markdown",
   "id": "4c554c2b",
   "metadata": {},
   "source": [
    "Die für diese Veranstaltungen wichtigsten Datentypen in R sind (geordnet nach absteigender Komplexität):\n",
    "\n",
    "| Datentyp  | Erklärung                                                                    | Beispiel           |\n",
    "|-----------|------------------------------------------------------------------------------|--------------------|\n",
    "| character | Zeichenkette                                                                 | \"Dresden-Klotzsche |\n",
    "| numeric   | Numerische Werte (Zahlen), fasst die Datentypen  integer und double zusammen | 3 oder 12.7        |\n",
    "| double    | Zahlen mit Nachkommastellen                                                  | 12.7 oder -5.34    |\n",
    "| integer   | Ganze Zahlen im Zahlenraum von -2*10^9 bis +2*10                             | -12 oder 5         |\n",
    "| logical   | Logische Konstanten                                                          | TRUE oder FALSE    |"
   ]
  },
  {
   "cell_type": "markdown",
   "id": "d9331df0",
   "metadata": {},
   "source": [
    "\n",
    "### Vektoren\n",
    "\n",
    "Der Verkettungsoperator c (concatenate/combine) weist einer Variablen mehrere Werte zu. Es entsteht ein Datenvektor:"
   ]
  },
  {
   "cell_type": "code",
   "execution_count": 1,
   "id": "d15cb1d4",
   "metadata": {},
   "outputs": [],
   "source": [
    "station <- c(227, 51.1280, 13.7543, \"Dresden-Klotzsche\")"
   ]
  },
  {
   "cell_type": "markdown",
   "id": "10cfab77",
   "metadata": {},
   "source": [
    "Es sind zu unterscheiden:\n",
    "- Numerische Vektoren: `temperature <- c (12, 13.5, 11.7, 9.1)`\n",
    "  - Ein mit Nullen gefüllter numerischer Vektor wird mit dem Schlüsselwort \n",
    "    `numeric` und der Anzahl der Einträge erzeugt:`numeric(12)`\n",
    "- Zeichenvektoren: `stations <- c (\"Dresden-Klotzsche\", \"Dresden-Hosterwitz\", \"Dresden-Strehlen\"`\n",
    "- Logische Vektoren: `quality_checked_data <- (TRUE, TRUE, FALSE)`"
   ]
  },
  {
   "cell_type": "markdown",
   "id": "f9bba2f2",
   "metadata": {},
   "source": [
    "Ein Vektor kann immer nur einen Datentyp enthalten. Werden mehrere verschiedene Datentypen angegeben, z. B. `c(\"Dresden-Klotzsche\", 12, 13, TRUE`, werden alle Elemente automatisch in den gleichen (komplexesten, hier: character) Datentyp umgewandelt. Die Ausgabe des Vektors sieht dann folgendermaßen aus:"
   ]
  },
  {
   "cell_type": "code",
   "execution_count": 3,
   "id": "24d1758e",
   "metadata": {},
   "outputs": [
    {
     "name": "stdout",
     "output_type": "stream",
     "text": [
      "[1] \"Dresden-Klotzsche\" \"12\"                \"13\"               \n",
      "[4] \"TRUE\"             \n"
     ]
    }
   ],
   "source": [
    "stations <- c(\"Dresden-Klotzsche\", 12, 13, TRUE) \n",
    "print (stations)"
   ]
  },
  {
   "cell_type": "markdown",
   "id": "f7f72f94",
   "metadata": {},
   "source": [
    "Eine Addition der Werte \"12\" und \"13\" ist dann nicht mehr möglich.   \n",
    "Die Werte eines Vektors können auch benannt werden. Beachten Sie, dass in diesem Fall das Zeichen = genutzt werden muss."
   ]
  },
  {
   "cell_type": "code",
   "execution_count": 4,
   "id": "6e536d92",
   "metadata": {},
   "outputs": [],
   "source": [
    "station_klotzsche <- c (height = 227, geoWidth = 51.1280, geoLength = 13.7543)"
   ]
  },
  {
   "cell_type": "markdown",
   "id": "89292a13",
   "metadata": {},
   "source": [
    "### Zugriff auf Einträge des Vektors\n",
    "\n",
    "Auf Elemente in Vektoren werden durch Angabe des Namens des Vektors und der gewünschten Position in eckigen Klammern zugegriffen:"
   ]
  },
  {
   "cell_type": "code",
   "execution_count": 5,
   "id": "ff879757",
   "metadata": {},
   "outputs": [
    {
     "data": {
      "text/html": [
       "'Dresden-Klotzsche'"
      ],
      "text/latex": [
       "'Dresden-Klotzsche'"
      ],
      "text/markdown": [
       "'Dresden-Klotzsche'"
      ],
      "text/plain": [
       "[1] \"Dresden-Klotzsche\""
      ]
     },
     "metadata": {},
     "output_type": "display_data"
    }
   ],
   "source": [
    "stations <- c (\"Dresden-Klotzsche\", \"Dresden-Hosterwitz\", \"Dresden-Strehlen\")\n",
    "stations[1]"
   ]
  },
  {
   "cell_type": "markdown",
   "id": "6fab2f5f",
   "metadata": {},
   "source": [
    "Bei benannten Elementen innerhalb der Variablen kann der Name der Elemente des Vektors genutzt werden:"
   ]
  },
  {
   "cell_type": "code",
   "execution_count": 6,
   "id": "58c967e4",
   "metadata": {},
   "outputs": [
    {
     "data": {
      "text/html": [
       "<strong>height:</strong> 227"
      ],
      "text/latex": [
       "\\textbf{height:} 227"
      ],
      "text/markdown": [
       "**height:** 227"
      ],
      "text/plain": [
       "height \n",
       "   227 "
      ]
     },
     "metadata": {},
     "output_type": "display_data"
    }
   ],
   "source": [
    "station_klotzsche <- c (height = 227, geoWidth = 51.1280, geoLength = 13.7543)\n",
    "station_klotzsche[\"height\"]"
   ]
  },
  {
   "cell_type": "markdown",
   "id": "4db8996c",
   "metadata": {},
   "source": [
    "Für das Zugreifen auf mehrere Werte kann in den Klammern ein Vektor definiert werden:"
   ]
  },
  {
   "cell_type": "code",
   "execution_count": 7,
   "id": "f83f0c5c",
   "metadata": {},
   "outputs": [
    {
     "data": {
      "text/html": [
       "<style>\n",
       ".dl-inline {width: auto; margin:0; padding: 0}\n",
       ".dl-inline>dt, .dl-inline>dd {float: none; width: auto; display: inline-block}\n",
       ".dl-inline>dt::after {content: \":\\0020\"; padding-right: .5ex}\n",
       ".dl-inline>dt:not(:first-of-type) {padding-left: .5ex}\n",
       "</style><dl class=dl-inline><dt>geoWidth</dt><dd>51.128</dd><dt>geoLength</dt><dd>13.7543</dd></dl>\n"
      ],
      "text/latex": [
       "\\begin{description*}\n",
       "\\item[geoWidth] 51.128\n",
       "\\item[geoLength] 13.7543\n",
       "\\end{description*}\n"
      ],
      "text/markdown": [
       "geoWidth\n",
       ":   51.128geoLength\n",
       ":   13.7543\n",
       "\n"
      ],
      "text/plain": [
       " geoWidth geoLength \n",
       "  51.1280   13.7543 "
      ]
     },
     "metadata": {},
     "output_type": "display_data"
    }
   ],
   "source": [
    "station_klotzsche <- c (height = 227, geoWidth = 51.1280, geoLength = 13.7543)\n",
    "station_klotzsche[c(\"geoWidth\", \"geoLength\")]"
   ]
  },
  {
   "cell_type": "markdown",
   "id": "4fb45d00",
   "metadata": {},
   "source": [
    "Alternativ dazu kann ein Bereich angegeben werden:"
   ]
  },
  {
   "cell_type": "code",
   "execution_count": 8,
   "id": "ad6e9744",
   "metadata": {},
   "outputs": [
    {
     "data": {
      "text/html": [
       "<style>\n",
       ".list-inline {list-style: none; margin:0; padding: 0}\n",
       ".list-inline>li {display: inline-block}\n",
       ".list-inline>li:not(:last-child)::after {content: \"\\00b7\"; padding: 0 .5ex}\n",
       "</style>\n",
       "<ol class=list-inline><li>13.5</li><li>11.7</li><li>9.1</li></ol>\n"
      ],
      "text/latex": [
       "\\begin{enumerate*}\n",
       "\\item 13.5\n",
       "\\item 11.7\n",
       "\\item 9.1\n",
       "\\end{enumerate*}\n"
      ],
      "text/markdown": [
       "1. 13.5\n",
       "2. 11.7\n",
       "3. 9.1\n",
       "\n",
       "\n"
      ],
      "text/plain": [
       "[1] 13.5 11.7  9.1"
      ]
     },
     "metadata": {},
     "output_type": "display_data"
    }
   ],
   "source": [
    "temperature <- c (12, 13.5, 11.7, 9.1)\n",
    "temperature[2:4]"
   ]
  },
  {
   "cell_type": "markdown",
   "id": "d98b532f",
   "metadata": {},
   "source": [
    "#### Nützliche Funktionen und Befehle zum Befüllen der Datenstrukturen:\n",
    "- Mit Doppelpunktoperator `:` werden Zahlenreihen definiert, z. B. 1:12 entspricht 1, 2, 3, ..., 12\n",
    "- Die Funktion`rep` ermöglicht das Wiederholen von Zahlen oder Zeichen zu definieren, z. B. `rep(\"a\", 3)` oder `rep(1:2, 4)` oder `rep(1:4,4:1)` (wiederholt die Zahl 1 vier Mal, die Zahl 2 drei Mal, ...)\n",
    "- Die Funktion`seq` ermöglicht das Erzeugen einer Sequenz, z. B.`seq(2,4,0.5)` ergibt 2.0 2.5 3.0 3.5 4.0\n",
    "- Die Funktionen `runif` oder `sample` ermöglichen das Erzeugen von Zufallszahlen, z. B.`runif (3, min=0, max=101)` oder `sample(1:100, 3, replace=TRUE)` erzeugt je 3 Zahlen zwischen 0 und 100.  \n",
    "\n",
    "\n",
    "### Faktoren\n",
    "Ein Faktor beschreibt eine nominale (kategoriale) Variable mit einer begrenzten Anzahl möglicher bekannter Werte (Level). Dieser Datentyp kann für Kategorien verwendet werden, bei der eine Kategorie immer den gleichen Namen aufweist.  \n",
    "`device_type <- factor(c(\"Thermohygrograph\", \"PT 100\")`  \n",
    "Ein geordneter Faktor beschreibt eine ordinale Variable.  \n",
    "`quality_classes <- ordered(c(\"Q1\", \"Q3\", \"Q5\", \"Q6\", \"Q7\")`  \n",
    "\n",
    "### Matrizen\n",
    "Eine Matrix wird über den Befehl matrix() erzeugt. Optional können Anzahl der Zeilen (nrow), Anzahl der Spalten (ncol) angegeben werden.  \n",
    "In einer Matrix sind alle Einträge vom gleichen Typ, z. B. character oder integer. Jede Zeile bzw. Spalte hat die gleiche Anzahl an Einträgen.  "
   ]
  },
  {
   "cell_type": "code",
   "execution_count": 12,
   "id": "c872d3eb",
   "metadata": {},
   "outputs": [],
   "source": [
    "temperature_matrix <- matrix(nrow = 3, ncol = 12)"
   ]
  },
  {
   "cell_type": "markdown",
   "id": "caf4ab87",
   "metadata": {},
   "source": [
    "#### Füllen der Matrix und Zugriff auf Einträge\n",
    "Durch Angabe der Zeile und Spalte in eckigen Klammern kann ein Eintrag ausgewählt werden."
   ]
  },
  {
   "cell_type": "code",
   "execution_count": 13,
   "id": "5d4dbf6a",
   "metadata": {},
   "outputs": [
    {
     "name": "stdout",
     "output_type": "stream",
     "text": [
      "[1] 12\n",
      "[1] 25\n"
     ]
    }
   ],
   "source": [
    "# fills the element in the first row & column with the value 12 \n",
    "temperature_matrix [1,1] <- 12\n",
    "# fills the element in the second row & column with the value 13 \n",
    "temperature_matrix [2,1] <- 13\n",
    "# prints the value of the element in the first row & column \n",
    "print( temperature_matrix[1,1] )\n",
    "# sum values of the first and second row in the first column \n",
    "print ( temperature_matrix[1,1] + temperature_matrix[2,1] )"
   ]
  },
  {
   "cell_type": "markdown",
   "id": "4d93a7d7",
   "metadata": {},
   "source": [
    "Lässt man Zeilen- bzw. Spaltenangabe weg, dann erhält man jeweils alle Einträge der Zeile bzw. Spalte:  \n",
    "(NA bedeutet \"not available\", da diese Werte noch nicht vergeben sind)"
   ]
  },
  {
   "cell_type": "code",
   "execution_count": 14,
   "id": "3ef1cc95",
   "metadata": {},
   "outputs": [
    {
     "name": "stdout",
     "output_type": "stream",
     "text": [
      "[1] NA NA NA\n",
      " [1] 12 NA NA NA NA NA NA NA NA NA NA NA\n"
     ]
    }
   ],
   "source": [
    "print ( temperature_matrix [,3] ) # third column\n",
    "print ( temperature_matrix [1,] ) # first row"
   ]
  },
  {
   "cell_type": "markdown",
   "id": "0d44052b",
   "metadata": {},
   "source": [
    "Durch Angabe eines Vektors können mehrere Einträge ausgewählt werden.  \n",
    "`temperature_matrix [c(1,3),] # first and third row`  \n",
    "Mit dem Doppelpunktoperator können Bereiche (von:bis) innerhalb der Matrix ausgewählt werden.  \n",
    "`temperature_matrix [c(1:3),] # first, second and third row`"
   ]
  },
  {
   "cell_type": "markdown",
   "id": "3826c36d",
   "metadata": {},
   "source": [
    "## Datentabellen  \n",
    "Eine Datentabelle wird über den Befehl **data.frame()** erzeugt. Optional kann u. a. definiert werden, welche Namen die Spalten haben sollen (col.names). In einer Datentabelle können verschiedene Datentypen vorgehalten werden, pro Spalte ist allerdings nur ein Datentyp möglich. Die Zeilen bzw. Spalten der Datentabellen müssen jeweils die gleiche Länge haben (Beispiel: Spalte 1 hat 4 Einträge => Spalte 2 braucht auch 4 Einträge, Abbildung 1).  \n",
    "![Tabelle](/Users/johannesfricke/Downloads/image.jpg)   \n",
    "\n",
    "Im folgenden Beispiel werden zunächst drei Vektoren (stations, temp_jan, temp_feb) mit jeweils drei Einträgen erstellt. Anschließend wird eine Datentabelle mit dem Namen dwd_data_frame und den Spaltennamen stations, jan_temp und feb_temp erzeugt. Den Spalten werden die Inhalte der zuvor erstellten Vektoren zugewiesen (\"Spaltenname\" = \"Vektorname\"), wodurch im Ergebnis eine Tabelle mit drei Spalten und drei Zeilen entsteht (Abbildung 2).\n"
   ]
  },
  {
   "cell_type": "code",
   "execution_count": 9,
   "id": "45055518",
   "metadata": {},
   "outputs": [
    {
     "name": "stdout",
     "output_type": "stream",
     "text": [
      "            stations temp_jan temp_feb\n",
      "1  Dresden-Klotzsche      1.3     -2.0\n",
      "2 Dresden-Hosterwitz      1.9     -1.3\n",
      "3   Dresden-Strehlen     -2.0     -1.8\n"
     ]
    }
   ],
   "source": [
    "stations <- c (\"Dresden-Klotzsche\", \"Dresden-Hosterwitz\", \"Dresden-Strehlen\")\n",
    "temp_jan <- c (1.3, 1.9, -2.0)\n",
    "temp_feb <- c(-2.0, -1.3, -1.8)\n",
    "dwd_data_frame <- data.frame(stations = stations, temp_jan = temp_jan, temp_feb = temp_feb)\n",
    "print(dwd_data_frame)"
   ]
  },
  {
   "cell_type": "markdown",
   "id": "599a2a8a",
   "metadata": {},
   "source": [
    "### Zugriff auf Einträge der Datentabelle  \n",
    "Der Zugriff auf die Einträge erfolgt wie bei Matrizen durch Angabe der Zeile bzw. Spalte in eckigen Klammern: \n"
   ]
  },
  {
   "cell_type": "code",
   "execution_count": 15,
   "id": "a38f2bce",
   "metadata": {},
   "outputs": [
    {
     "data": {
      "text/html": [
       "<table class=\"dataframe\">\n",
       "<caption>A data.frame: 1 × 4</caption>\n",
       "<thead>\n",
       "\t<tr><th></th><th scope=col>stations</th><th scope=col>temp_jan</th><th scope=col>temp_feb</th><th scope=col>mar</th></tr>\n",
       "\t<tr><th></th><th scope=col>&lt;chr&gt;</th><th scope=col>&lt;dbl&gt;</th><th scope=col>&lt;dbl&gt;</th><th scope=col>&lt;dbl&gt;</th></tr>\n",
       "</thead>\n",
       "<tbody>\n",
       "\t<tr><th scope=row>1</th><td>Dresden-Klotzsche</td><td>1.3</td><td>-2</td><td>10</td></tr>\n",
       "</tbody>\n",
       "</table>\n"
      ],
      "text/latex": [
       "A data.frame: 1 × 4\n",
       "\\begin{tabular}{r|llll}\n",
       "  & stations & temp\\_jan & temp\\_feb & mar\\\\\n",
       "  & <chr> & <dbl> & <dbl> & <dbl>\\\\\n",
       "\\hline\n",
       "\t1 & Dresden-Klotzsche & 1.3 & -2 & 10\\\\\n",
       "\\end{tabular}\n"
      ],
      "text/markdown": [
       "\n",
       "A data.frame: 1 × 4\n",
       "\n",
       "| <!--/--> | stations &lt;chr&gt; | temp_jan &lt;dbl&gt; | temp_feb &lt;dbl&gt; | mar &lt;dbl&gt; |\n",
       "|---|---|---|---|---|\n",
       "| 1 | Dresden-Klotzsche | 1.3 | -2 | 10 |\n",
       "\n"
      ],
      "text/plain": [
       "  stations          temp_jan temp_feb mar\n",
       "1 Dresden-Klotzsche 1.3      -2       10 "
      ]
     },
     "metadata": {},
     "output_type": "display_data"
    }
   ],
   "source": [
    "dwd_data_frame [1,] # first row stations temp_jan temp_feb"
   ]
  },
  {
   "cell_type": "code",
   "execution_count": 11,
   "id": "a6244a8c",
   "metadata": {},
   "outputs": [
    {
     "data": {
      "text/html": [
       "<style>\n",
       ".list-inline {list-style: none; margin:0; padding: 0}\n",
       ".list-inline>li {display: inline-block}\n",
       ".list-inline>li:not(:last-child)::after {content: \"\\00b7\"; padding: 0 .5ex}\n",
       "</style>\n",
       "<ol class=list-inline><li>'Dresden-Klotzsche'</li><li>'Dresden-Hosterwitz'</li><li>'Dresden-Strehlen'</li></ol>\n"
      ],
      "text/latex": [
       "\\begin{enumerate*}\n",
       "\\item 'Dresden-Klotzsche'\n",
       "\\item 'Dresden-Hosterwitz'\n",
       "\\item 'Dresden-Strehlen'\n",
       "\\end{enumerate*}\n"
      ],
      "text/markdown": [
       "1. 'Dresden-Klotzsche'\n",
       "2. 'Dresden-Hosterwitz'\n",
       "3. 'Dresden-Strehlen'\n",
       "\n",
       "\n"
      ],
      "text/plain": [
       "[1] \"Dresden-Klotzsche\"  \"Dresden-Hosterwitz\" \"Dresden-Strehlen\"  "
      ]
     },
     "metadata": {},
     "output_type": "display_data"
    }
   ],
   "source": [
    "dwd_data_frame [ ,1] # first column"
   ]
  },
  {
   "cell_type": "markdown",
   "id": "5063f054",
   "metadata": {},
   "source": [
    "Haben die Spalten Namen, dann kann mittels Schlüsselzeichen $ auf die Einträge unter der Spalte mit dem jeweiligen Namen zugegriffen werden: "
   ]
  },
  {
   "cell_type": "code",
   "execution_count": 12,
   "id": "5644bdec",
   "metadata": {},
   "outputs": [
    {
     "data": {
      "text/html": [
       "<style>\n",
       ".list-inline {list-style: none; margin:0; padding: 0}\n",
       ".list-inline>li {display: inline-block}\n",
       ".list-inline>li:not(:last-child)::after {content: \"\\00b7\"; padding: 0 .5ex}\n",
       "</style>\n",
       "<ol class=list-inline><li>'Dresden-Klotzsche'</li><li>'Dresden-Hosterwitz'</li><li>'Dresden-Strehlen'</li></ol>\n"
      ],
      "text/latex": [
       "\\begin{enumerate*}\n",
       "\\item 'Dresden-Klotzsche'\n",
       "\\item 'Dresden-Hosterwitz'\n",
       "\\item 'Dresden-Strehlen'\n",
       "\\end{enumerate*}\n"
      ],
      "text/markdown": [
       "1. 'Dresden-Klotzsche'\n",
       "2. 'Dresden-Hosterwitz'\n",
       "3. 'Dresden-Strehlen'\n",
       "\n",
       "\n"
      ],
      "text/plain": [
       "[1] \"Dresden-Klotzsche\"  \"Dresden-Hosterwitz\" \"Dresden-Strehlen\"  "
      ]
     },
     "metadata": {},
     "output_type": "display_data"
    }
   ],
   "source": [
    "dwd_data_frame$stations"
   ]
  },
  {
   "cell_type": "markdown",
   "id": "d1e42941",
   "metadata": {},
   "source": [
    "### Hinzufügen von Einträgen in die Datentabelle  \n",
    "\n",
    "Das Hinzufügen von Zeilen bzw. Spalten erfolgt über die Schlüsselwörter rbind (row binding) bzw. cbind (column binding):"
   ]
  },
  {
   "cell_type": "code",
   "execution_count": 13,
   "id": "197614f4",
   "metadata": {},
   "outputs": [],
   "source": [
    "dwd_data_frame <- cbind(dwd_data_frame, mar = c (10, 9.3, 10.8))"
   ]
  },
  {
   "cell_type": "markdown",
   "id": "7a27c477",
   "metadata": {},
   "source": [
    "### Filtern von Einträgen einer Datentabelle\n",
    "Das Filtern von Einträgen kann auf verschiedene Weise erfolgen, z. B. über die Funktion **subset()**. Mit der Funktion subset können aus einer Datentabelle (1. Argument der Funktion) Einträge gewählt werden, die eine bestimmte Bedingung erfüllen (2. Argument der Funktion)."
   ]
  },
  {
   "cell_type": "code",
   "execution_count": 14,
   "id": "abad295e",
   "metadata": {},
   "outputs": [
    {
     "name": "stdout",
     "output_type": "stream",
     "text": [
      "          stations temp_jan temp_feb  mar\n",
      "3 Dresden-Strehlen       -2     -1.8 10.8\n"
     ]
    }
   ],
   "source": [
    "dwd_set <- subset(dwd_data_frame, temp_jan < 1.0)\n",
    "print(dwd_set)"
   ]
  },
  {
   "cell_type": "markdown",
   "id": "9d3ecf25",
   "metadata": {},
   "source": [
    "Alternativ können Sie die Werte für die Argumente auch über deren Namen zuweisen (und dadurch z. B. die Reihenfolge vertauschen, für die Bezeichnung sei auf die Hilfe zu den Funktionen verwiesen (`?subset()`)."
   ]
  },
  {
   "cell_type": "code",
   "execution_count": 16,
   "id": "2f066f94",
   "metadata": {},
   "outputs": [],
   "source": [
    "dwd_set <- subset(subset=temp_jan < 1.0, x=dwd_data_frame)"
   ]
  },
  {
   "cell_type": "markdown",
   "id": "23745afe",
   "metadata": {},
   "source": [
    "Alternativ kann eine Datentabelle mittels Funktion **split()** gefiltert werden. Die Funktion bekommt eine Datentabelle (**x**), sowie den Vektor (**f**), nach dem aufgespalten werden soll, übergeben, z. B. Temperaturen im Februar (siehe unten). Das Ergebnis ist eine Liste mit allen voneinander verschiedenen Einträgen des Vektors."
   ]
  },
  {
   "cell_type": "code",
   "execution_count": 17,
   "id": "6c13cdbe",
   "metadata": {},
   "outputs": [
    {
     "name": "stdout",
     "output_type": "stream",
     "text": [
      "$`-2`\n",
      "           stations temp_jan temp_feb mar\n",
      "1 Dresden-Klotzsche      1.3       -2  10\n",
      "\n",
      "$`-1.8`\n",
      "          stations temp_jan temp_feb  mar\n",
      "3 Dresden-Strehlen       -2     -1.8 10.8\n",
      "\n",
      "$`-1.3`\n",
      "            stations temp_jan temp_feb mar\n",
      "2 Dresden-Hosterwitz      1.9     -1.3 9.3\n",
      "\n"
     ]
    }
   ],
   "source": [
    "dwd_split <- split(x=dwd_data_frame, f=dwd_data_frame$temp_feb)\n",
    "print(dwd_split)"
   ]
  },
  {
   "cell_type": "markdown",
   "id": "c27c449d",
   "metadata": {},
   "source": [
    "## Listen\n",
    "Eine Liste wird über den Befehl **list()** erzeugt. Sie kann Einträge beliebiger Typen und Länge enthalten (und verschachtelt werden, d. h. eine Liste enthält eine weitere Liste)."
   ]
  },
  {
   "cell_type": "code",
   "execution_count": 20,
   "id": "10003254",
   "metadata": {},
   "outputs": [],
   "source": [
    "klotzsche_list <- list(location = c (51.280, 13.7543), full_name = c (\"Dresden-Klotzsche\"), height = 227)"
   ]
  },
  {
   "cell_type": "markdown",
   "id": "79e11243",
   "metadata": {},
   "source": [
    "## Arrays\n",
    "Ein Array wird über den Befehl **array()** erzeugt.\n",
    "`values <- array(data = 14.5, dim = length(2), dimnames = NULL)`\n",
    "\n",
    "## Zeitreihen\n",
    "Eine Zeitreihe wird über den Befehl **ts()** erzeugt.\n",
    "`measures <- ts(1:10, frequency = 4, start = c (1989, 2))`\n",
    "`Measures` erzeugt eine Zeitreihe von 10 Werte (1, 2, 3, ... , 10). Die Zeitreihe beginnt im Jahr 1989 (`start = c (1989, ...)`). Innerhalb des Jahres 1989 können 4 Messwerte gespeichert werden (`frequency = 4`). Der erste Wert der Zeitreihe entspricht dem zweiten Wert im Jahr 1989 (`start = c (..., 2)`).   \n",
    "\n",
    "## Operatoren\n",
    "Das Auswählen, Überprüfen oder Vergleichen von Werten kann mittels Operatoren erfolgen. Nützlich sind dabei auch die Schlüsselwörter **any** und **all**, die prüfen, ob es einen oder mehrere Werte gibt, die eine Bedingung erfüllen. Ausgegeben wird ein boolscher Wert (TRUE, FALSE). Mit dem Schlüsselwort **which** kann man den genauen Wert (bzw. dessen Position im Vektor) ermitteln, der eine Bedingung erfüllt.  \n",
    "\n",
    "| Operator | Erklärung | Beispiel |\n",
    "|---|---|---|\n",
    "| == | Gleich | Gibt es in der Messreihe einen Wert, der genau 12°C ist?<br>> `any (temperature == 12)`<br>`[1] TRUE` |\n",
    "| != | Ungleich | Ist der erste Messwert ungleich 0°C?<br>`> temperature[1] != 0` <br> `[1] TRUE` |\n",
    "| <<br>> | Kleiner als<br>Größer als | An welcher/n Position/en steht/en Wert/e, der/die kleiner ist/sind als 10°C?<br>`> which (temperature < 10`<br>`[1] 4` |\n",
    "| <=<br>>= | Kleiner oder gleich<br>Größer oder gleich | Ist der jeweilige Messwert des Vektors größer oder gleich 12°C?<br`> temperature >=12`<br>`[1] TRUE TRUE FALSE FALSE`<br>Sind alle Werte kleiner als oder gleich 12°C?<br>`> all (temperature <= 12` <br> `[1] FALSE` |    \n",
    "\n",
    "\n",
    "Weitere Funktionen, die für grundlegende Berechnungen genutzt werden können (\"c\" beschreibt hier jeweils einen numerischen Vektor):\n",
    "- **sum** (\"c\") berechnet die Summe aller Einträge von c\n",
    "- **min** (\"c\"), **max** (\"c\") liefert Minimum bzw. Maximum der Einträge in c zurück\n",
    "- **length** (\"c\") gibt die Anzahl der Einträge in c zurück\n",
    "- **sort** (\"c\") sortiert die Einträge von c aufsteigend (optional kann über das Argument `decreasing=TRUE` auch die absteigende Sortierung parametrisiert werden)\n",
    "- **prod** (\"c\") liefert das Produkt aller Einträge von c zurück. \n",
    "\n",
    "Variablen werden in RStudio im Umgebungsfenster (oben rechts) angezeigt.  \n",
    "Mit dem Befehl **print(\"Variablenname\")** können Sie Inhalte der Variable ausgeben.\n",
    "Per Konvention werden Variablen in R immer klein geschrieben. Auf die Groß- und Kleinschreibung ist bei der Nutzung der Variablen zwingend zu achten, um Fehler zu vermeiden (`klotzsche` und `Klotzsche` sind verschiedene Variablen. Für weitere Information können Sie den Suchbegriff Case Sensitivity nutzen).\n",
    "Das Ausweisen von Kommentaren im Code erfolgt über das Raute-Zeichen.  \n",
    "`#Vector klotzsche describes station parameters for DD-Klotzsch#Vector klotzsche describes station parameters for DD-Klotzsche\n",
    "klotzsche <- c(..)`\n",
    "\n",
    "\n"
   ]
  },
  {
   "cell_type": "markdown",
   "id": "8432b552",
   "metadata": {},
   "source": [
    "## Abgabe (3 Punkte -> OPAL)\n",
    "Definieren Sie in R eine Datentabelle `measurements`, die 15 zufällig erzeugte (nicht manuell eingetippte) Messpunkte enthält (analog Abbildung 4). Jeder Messpunkt besteht aus einer Ortsangabe in Gauß-Krüger-Koordinaten (Rechtswert 4.500.000 - 4.600.000 m und Hochwert 5.500.000 - 5.700.000 m) und einem Temperatur-Wert (von -6,0°C bis 37,0°C). Runden Sie entsprechend Rechts- und Hochwerte auf ganze Zahlen sowie die Temperaturwerte auf eine Nachkommastelle. Lassen Sie sich die ersten drei Messpunkte auf der Konsole ausgeben. Kommentieren Sie den Quellcode mit mind. zwei Kommentaren (bspw. zum Anlegen der Datentabelle)"
   ]
  },
  {
   "cell_type": "code",
   "execution_count": null,
   "id": "6aa417da",
   "metadata": {},
   "outputs": [],
   "source": []
  },
  {
   "cell_type": "code",
   "execution_count": null,
   "id": "30ed6040",
   "metadata": {},
   "outputs": [],
   "source": []
  },
  {
   "cell_type": "code",
   "execution_count": null,
   "id": "fee53002",
   "metadata": {},
   "outputs": [],
   "source": []
  }
 ],
 "metadata": {
  "kernelspec": {
   "display_name": "R",
   "language": "R",
   "name": "ir"
  },
  "language_info": {
   "codemirror_mode": "r",
   "file_extension": ".r",
   "mimetype": "text/x-r-source",
   "name": "R",
   "pygments_lexer": "r",
   "version": "4.2.1"
  }
 },
 "nbformat": 4,
 "nbformat_minor": 5
}
