{
 "cells": [
  {
   "cell_type": "markdown",
   "metadata": {},
   "source": [
    "# Beleg 6 – Partielle Korrelation\n",
    "\n",
    "### Hinweise zum Dokument:\n",
    "\n",
    "\n",
    "1. `Äquidistante Schrift (monospaced font)` zeigt Codefragmente oder Schlüsselsymbole in R an.\n",
    "2. Texte in spitzen Klammern `< ... >` sind Platzhalter, die durch eigene Namen ersetzt werden sollen.\n",
    "4. Eingerückte Texte mit dem Titel __Tipp__ beschreiben Hinweise, wie Tastenbefehle, die Ihnen bspw. die Arbeit mit Jupyter Notebooks erleichtern können.\n",
    "5. Eingerückte Texte mit dem Titel __Hinweis__ enthalten weiterführende Hinweise, die Sie bei Interesse selbst weiterverfolgen können\n",
    "\n",
    "6. Jupyter Codeblocks zeigen ausführbaren Code an. Ein Codeblock wird mit `strg + enter` ausgeführt (siehe *Kurze Einführung Jupyter Notebooks*)\n",
    "\n",
    "7. Kommentare und Erklärungen zum R-Code werden wie in den R-Skripten selbst mit # gekennzeichnet "
   ]
  },
  {
   "cell_type": "markdown",
   "metadata": {},
   "source": [
    "Der Zusammenhang zwischen zwei Zufallsvariablen kann durch weitere Variablen (Hintergrundvariablen) beeinflusst werden. Um auf eine indirekte bzw. Scheinbeziehung zwischen zwei Variablen zu prüfen, kann die Hintergrundvariable auspartialisiert werden.\n",
    "\n",
    "Für die Bestimmung in R ist das Paket `ppcor` zu installieren und aktivieren (siehe Übung 4: `install.packages(\"<Paketname>\")` und `library(<Paketname>)` ). Die Funktion `cor(<Datentabelle>)` bestimmt die Korrelationskoeffizienten zu allen Variablen einer Datentabelle. Analog dazu bestimmt die Funktion `pcor(<Datentabelle>)` die partiellen Korrelationskoeffizienten. "
   ]
  },
  {
   "cell_type": "code",
   "execution_count": null,
   "metadata": {
    "vscode": {
     "languageId": "r"
    }
   },
   "outputs": [],
   "source": [
    "# Führen Sie diesen Codeblock aus!\n",
    "\n",
    "install.packages(\"ppcor\")\n",
    "library(ppcor)"
   ]
  },
  {
   "cell_type": "code",
   "execution_count": null,
   "metadata": {
    "vscode": {
     "languageId": "r"
    }
   },
   "outputs": [],
   "source": [
    "# Führen Sie diesen Codeblock aus!\n",
    "\n",
    "example_data <- read.csv(file = \"../Daten/6_exampleData.csv\", header = TRUE)\n",
    "pcor(example_data)"
   ]
  },
  {
   "cell_type": "markdown",
   "metadata": {},
   "source": [
    "Unter dem Listenelement `$estimate` werden die jeweiligen partiellen Korrelationskoeffizienten angegeben, z. B. $r_{TH.F}=-0,966$ (siehe orange Markierungen) für die Lufttemperatur (Temperatur) und Stationshöhe (Hoehe) unter herauspartialisierter relativer Luftfeuchte (relLuftfeuchte). Unter dem darunter dargestellten Punkt `$p.value` werden die jeweiligen p-Werte dargestellt, z. B. p << 0,05 für das obige Beispiel (siehe blaue Markierungen).\n",
    "\n",
    "Für die Bestimmung eines bestimmten partiellen Korrelationskoeffizienten kann auch die Funktion `pcor.test(x=<VariableMitMöglicherScheinbeziehung1>, y=<VariableMitMöglicherScheinbeziehung2>, z=<Hintergrundvariable>)` genutzt werden. Der Aufruf der Funktion für die Bestimmung des partiellen Korrelationskoeffizienten von Lufttemperatur und Stationshöhe unter herauspartialisierter relativer Feuchte für oben beschriebene Datentabelle `example_data` liefert folgende Ausgabe:"
   ]
  },
  {
   "cell_type": "code",
   "execution_count": null,
   "metadata": {
    "vscode": {
     "languageId": "r"
    }
   },
   "outputs": [],
   "source": [
    "# Führen Sie diesen Codeblock aus!\n",
    "\n",
    "pcor.test(x=example_data$Lufttemperatur, y=example_data$Stationshoehe, z=example_data$relLuftfeuchte)"
   ]
  },
  {
   "cell_type": "markdown",
   "metadata": {},
   "source": [
    "Der partielle Korrelationskoeffizient $r_{TH.F}=-0,966$ ist hoch signifikant (p<<0,05 ist kleiner als $\\alpha$ = 5%). Es besteht auch nach dem Herauspartialisieren der relativen Feuchte ein starker negativer Zusammenhang zwischen der Lufttemperatur und der Stationshöhe.\n",
    "\n",
    "Zur Bewertung des partiellen Korrelationskoeffizienten wird der entsprechende Korrelationskoeffizient mit betrachtet. Für obiges Beispiel liefert der folgende Befehl den Korrelationskoeffizienten für die in der Datentabelle `example_data` enthaltenen Variablen Lufttemperatur und Stationshöhe, der einen signifikanten (p<<0,05; blaue Markierung) und starken negativen ($r_{TH}=-0,952$; orange Markierung) Zusammenhang zeigt:"
   ]
  },
  {
   "cell_type": "markdown",
   "metadata": {},
   "source": [
    "## Hausaufgabe (-> OPAL)\n",
    "\n",
    "Lesen Sie die DWD-Messdaten mit stündlichen Messungen für alle Stationen in Sachsen inklusive der Stationsinformationen (5_DWD_Messdaten_mitStationsinformationen.txt) ein. Filtern Sie die Daten für das Jahr 2017 (>= 1. Januar 2017, 0 Uhr bis <= 31. Dezember, 23 Uhr) und entfernen Sie Messungen (Temperatur, relative Luftfeuchte) mit Fehlerwerten (-999). Ihre Ergebnistabelle soll `data_all_stations` heißen.\n",
    "\n",
    ">**Hinweis:** Das Messdatum ist in der Spalte MESS_DATUM als zusammengesetzte Zahl aus <JahrMonatTagUhrzeit> beschrieben.\n",
    "\n",
    "Der folgende Code berechnet für jede in der Ausgangstabelle (`data_all_stations`) enthaltene Station (`STATIONS_ID`) die Mittelwerte für die Lufttemperatur (`TT_TU`) sowie die relative Feuchte (`RF_TU`) und speichert diese zusammen mit der Stations-ID und der Stationshöhe in einer neuen Datentabelle `yearlymeans`. Nutzen Sie diesen Code und die so erzeugte Datentabelle `yearlymeans` für die nachfolgende Berechnung.\n",
    "\n",
    "```R\n",
    "stations <- unique(data_all_stations$STATIONS_ID)\n",
    "yearlymeans <- data.frame(STATIONS_ID=numeric(), TT_TU=numeric(), RF_TU=numeric(), Stationshoehe=numeric())\n",
    "for (stat in stations) {\n",
    "  station_data <- data_all_stations[data_all_stations$STATIONS_ID==stat,]\n",
    "  temp_mean <- mean(station_data$TT_TU)\n",
    "  rf_mean <- mean(station_data$RF_TU)\n",
    "  height_value <- station_data$Stationshoehe[1]\n",
    "  new_data <- data.frame(STATIONS_ID=stat, TT_TU=temp_mean, RF_TU=rf_mean, Stationshoehe=height_value)\n",
    "  yearlymeans <- rbind(yearlymeans, new_data)\n",
    "  rm(station_data, temp_mean, rf_mean, height_value, new_data)\n",
    "}\n",
    "rm(stat, stations)\n",
    "```"
   ]
  },
  {
   "cell_type": "markdown",
   "metadata": {},
   "source": [
    "Untersuchen Sie die Zusammenhänge zwischen den drei Variablen Lufttemperatur, relative Luftfeuchte und Stationshöhe zunächst anhand von Streudiagrammen (siehe Vorlesungsfolien bzw. Beleg 5). Erstellen Sie dazu mit dem Befehl `plot(<Daten1>, <Daten2>, <weitereParameter>)` ein Streudiagramm, das die Jahresmittelwerte der Temperatur und der relativen Luftfeuchte aller DWD-Stationen in Sachsen für 2017 darstellt. Verfahren Sie ebenso für die Variablen Stationshöhe/Temperatur und Stationshöhe/Luftfeuchte. Achten Sie auf die vollständige Beschriftung Ihrer Abbildungen (`plot`-Parameter `xlab`, `ylab`, `main`).\n",
    "\n",
    "Bestimmen Sie den partiellen Korrelationskoeffizienten für die Jahresmitteltemperaturen und Jahresmittelfeuchten unter Annahme einer Scheinbeziehung zwischen den Variablen Lufttemperatur und relativer Feuchte und der Hintergrundvariable Stationshöhe.\n",
    "\n",
    "Überprüfen Sie dazu zunächst mittels Kolmogorov-Smirnov-Tests, ob die Daten normalverteilt vorliegen. Bestimmen Sie anschließend den Produkt-Moment-Korrelationskoeffizienten nach Pearson und dann den partiellen Korrelationskoeffizienten.\n",
    "\n",
    "Interpretieren Sie die Ergebnisse (Streudiagramme, Normalverteilung, Korrelationskoeffizienten und partieller Korrelationskoeffizient) jeweils in Form eines Antwortsatzes.\n",
    "\n",
    "Die Antwortsätze sind in einem PDF-Dokument, zusammen mit Screenshots der drei Streudiagramme abzuspeichern. Kommentieren Sie Ihr Skript sinnvoll in englischer oder deutscher Sprache. Laden Sie das R-Skript und das PDF als ZIP-komprimierten Ordner bis zum **12.07.2022, 08:00 Uhr**, im OPAL hoch.\n",
    "\n"
   ]
  },
  {
   "cell_type": "markdown",
   "metadata": {},
   "source": []
  }
 ],
 "metadata": {
  "kernelspec": {
   "display_name": "R",
   "language": "R",
   "name": "ir"
  },
  "language_info": {
   "codemirror_mode": "r",
   "file_extension": ".r",
   "mimetype": "text/x-r-source",
   "name": "R",
   "pygments_lexer": "r",
   "version": "4.2.1"
  },
  "orig_nbformat": 4
 },
 "nbformat": 4,
 "nbformat_minor": 2
}
