{
 "cells": [
  {
   "cell_type": "markdown",
   "metadata": {},
   "source": [
    "## Abgabe (-> OPAL)\n",
    "\n",
    "Lesen Sie die DWD-Messdaten mit stündlichen Messungen für alle Stationen in Sachsen inklusive der Stationsinformationen (5_DWD_Messdaten_mitStationsinformationen.txt) ein. Filtern Sie die Daten für das Jahr 2017 (>= 1. Januar 2017, 0 Uhr bis <= 31. Dezember, 23 Uhr) und entfernen Sie Messungen (Temperatur, relative Luftfeuchte) mit Fehlerwerten (-999). Ihre Ergebnistabelle soll `data_all_stations` heißen.\n",
    "\n",
    ">**Hinweis:** Das Messdatum ist in der Spalte MESS_DATUM als zusammengesetzte Zahl aus <JahrMonatTagUhrzeit> beschrieben.\n",
    "\n",
    "Der folgende Code berechnet für jede in der Ausgangstabelle (`data_all_stations`) enthaltene Station (`STATIONS_ID`) die Mittelwerte für die Lufttemperatur (`TT_TU`) sowie die relative Feuchte (`RF_TU`) und speichert diese zusammen mit der Stations-ID und der Stationshöhe in einer neuen Datentabelle `yearlymeans`. Nutzen Sie diesen Code und die so erzeugte Datentabelle `yearlymeans` für die nachfolgende Berechnung.\n",
    "\n",
    "```R\n",
    "stations <- unique(data_all_stations$STATIONS_ID)\n",
    "yearlymeans <- data.frame(STATIONS_ID=numeric(), TT_TU=numeric(), RF_TU=numeric(), Stationshoehe=numeric())\n",
    "for (stat in stations) {\n",
    "  station_data <- data_all_stations[data_all_stations$STATIONS_ID==stat,]\n",
    "  temp_mean <- mean(station_data$TT_TU)\n",
    "  rf_mean <- mean(station_data$RF_TU)\n",
    "  height_value <- station_data$Stationshoehe[1]\n",
    "  new_data <- data.frame(STATIONS_ID=stat, TT_TU=temp_mean, RF_TU=rf_mean, Stationshoehe=height_value)\n",
    "  yearlymeans <- rbind(yearlymeans, new_data)\n",
    "  rm(station_data, temp_mean, rf_mean, height_value, new_data)\n",
    "}\n",
    "rm(stat, stations)\n",
    "```"
   ]
  },
  {
   "cell_type": "markdown",
   "metadata": {},
   "source": [
    "Untersuchen Sie die Zusammenhänge zwischen den drei Variablen Lufttemperatur, relative Luftfeuchte und Stationshöhe zunächst anhand von Streudiagrammen (siehe Vorlesungsfolien bzw. Beleg 5). Erstellen Sie dazu mit dem Befehl `plot(<Daten1>, <Daten2>, <weitereParameter>)` ein Streudiagramm, das die Jahresmittelwerte der Temperatur und der relativen Luftfeuchte aller DWD-Stationen in Sachsen für 2017 darstellt. Verfahren Sie ebenso für die Variablen Stationshöhe/Temperatur und Stationshöhe/Luftfeuchte. Achten Sie auf die vollständige Beschriftung Ihrer Abbildungen (`plot`-Parameter `xlab`, `ylab`, `main`).\n",
    "\n",
    "Bestimmen Sie den partiellen Korrelationskoeffizienten für die Jahresmitteltemperaturen und Jahresmittelfeuchten unter Annahme einer Scheinbeziehung zwischen den Variablen Lufttemperatur und relativer Feuchte und der Hintergrundvariable Stationshöhe.\n",
    "\n",
    "Überprüfen Sie dazu zunächst mittels Kolmogorov-Smirnov-Tests, ob die Daten normalverteilt vorliegen. Bestimmen Sie anschließend den Produkt-Moment-Korrelationskoeffizienten nach Pearson und dann den partiellen Korrelationskoeffizienten.\n",
    "\n",
    "Interpretieren Sie die Ergebnisse (Streudiagramme, Normalverteilung, Korrelationskoeffizienten und partieller Korrelationskoeffizient) jeweils in Form eines Antwortsatzes.\n",
    "\n",
    "Die Antwortsätze sind in einem PDF-Dokument, zusammen mit Screenshots der drei Streudiagramme abzuspeichern. Kommentieren Sie Ihr Skript sinnvoll in englischer oder deutscher Sprache. Laden Sie das R-Skript und das PDF als ZIP-komprimierten Ordner bis zum **12.07.2022, 08:00 Uhr**, im OPAL hoch.\n",
    "\n"
   ]
  }
 ],
 "metadata": {
  "kernelspec": {
   "display_name": "R",
   "language": "R",
   "name": "ir"
  },
  "language_info": {
   "name": "R",
   "version": "3.11.0"
  },
  "orig_nbformat": 4,
  "vscode": {
   "interpreter": {
    "hash": "f8af5612b9ad6ed3e9eec80b89adf095f90014de1323c15009f2afd3061dd480"
   }
  }
 },
 "nbformat": 4,
 "nbformat_minor": 2
}
