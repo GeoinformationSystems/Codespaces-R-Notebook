{
 "cells": [
  {
   "cell_type": "markdown",
   "metadata": {},
   "source": [
    "# Beleg 6 – Partielle Korrelation\n",
    "\n",
    "### Hinweise zum Dokument:\n",
    "\n",
    "\n",
    "1. `Äquidistante Schrift (monospaced font)` zeigt Codefragmente oder Schlüsselsymbole in R an.\n",
    "2. Texte in spitzen Klammern `< ... >` sind Platzhalter, die durch eigene Namen ersetzt werden sollen.\n",
    "4. Eingerückte Texte mit dem Titel __Tipp__ beschreiben Hinweise, wie Tastenbefehle, die Ihnen bspw. die Arbeit mit Jupyter Notebooks erleichtern können.\n",
    "5. Eingerückte Texte mit dem Titel __Hinweis__ enthalten weiterführende Hinweise, die Sie bei Interesse selbst weiterverfolgen können\n",
    "\n",
    "6. Jupyter Codeblocks zeigen ausführbaren Code an. Ein Codeblock wird mit `strg + enter` ausgeführt (siehe *Kurze Einführung Jupyter Notebooks*)\n",
    "\n",
    "7. Kommentare und Erklärungen zum R-Code werden wie in den R-Skripten selbst mit # gekennzeichnet "
   ]
  },
  {
   "cell_type": "markdown",
   "metadata": {},
   "source": [
    "Der Zusammenhang zwischen zwei Zufallsvariablen kann durch weitere Variablen (Hintergrundvariablen) beeinflusst werden. Um auf eine indirekte bzw. Scheinbeziehung zwischen zwei Variablen zu prüfen, kann die Hintergrundvariable auspartialisiert werden.\n",
    "\n",
    "Für die Bestimmung in R ist das Paket `ppcor` zu installieren und aktivieren (siehe Übung 4: `install.packages(\"<Paketname>\")` und `library(<Paketname>)` ). Die Funktion `cor(<Datentabelle>)` bestimmt die Korrelationskoeffizienten zu allen Variablen einer Datentabelle. Analog dazu bestimmt die Funktion `pcor(<Datentabelle>)` die partiellen Korrelationskoeffizienten. "
   ]
  },
  {
   "cell_type": "code",
   "execution_count": null,
   "metadata": {
    "vscode": {
     "languageId": "r"
    }
   },
   "outputs": [],
   "source": [
    "# Führen Sie diesen Codeblock aus!\n",
    "\n",
    "install.packages(\"ppcor\")\n",
    "library(ppcor)"
   ]
  },
  {
   "cell_type": "code",
   "execution_count": null,
   "metadata": {
    "vscode": {
     "languageId": "r"
    }
   },
   "outputs": [],
   "source": [
    "# Führen Sie diesen Codeblock aus!\n",
    "\n",
    "example_data <- read.csv(file = \"../../Daten/6_exampleData.csv\", header = TRUE)\n",
    "pcor(example_data)"
   ]
  },
  {
   "cell_type": "markdown",
   "metadata": {},
   "source": [
    "Unter dem Listenelement `$estimate` werden die jeweiligen partiellen Korrelationskoeffizienten angegeben, z. B. $r_{TH.F}=-0,966$ (siehe orange Markierungen) für die Lufttemperatur (Temperatur) und Stationshöhe (Hoehe) unter herauspartialisierter relativer Luftfeuchte (relLuftfeuchte). Unter dem darunter dargestellten Punkt `$p.value` werden die jeweiligen p-Werte dargestellt, z. B. p << 0,05 für das obige Beispiel (siehe blaue Markierungen).\n",
    "\n",
    "Für die Bestimmung eines bestimmten partiellen Korrelationskoeffizienten kann auch die Funktion `pcor.test(x=<VariableMitMöglicherScheinbeziehung1>, y=<VariableMitMöglicherScheinbeziehung2>, z=<Hintergrundvariable>)` genutzt werden. Der Aufruf der Funktion für die Bestimmung des partiellen Korrelationskoeffizienten von Lufttemperatur und Stationshöhe unter herauspartialisierter relativer Feuchte für oben beschriebene Datentabelle `example_data` liefert folgende Ausgabe:"
   ]
  },
  {
   "cell_type": "code",
   "execution_count": null,
   "metadata": {
    "vscode": {
     "languageId": "r"
    }
   },
   "outputs": [],
   "source": [
    "# Führen Sie diesen Codeblock aus!\n",
    "\n",
    "pcor.test(x=example_data$Lufttemperatur, y=example_data$Stationshoehe, z=example_data$relLuftfeuchte)"
   ]
  },
  {
   "cell_type": "markdown",
   "metadata": {},
   "source": [
    "Der partielle Korrelationskoeffizient $r_{TH.F}=-0,966$ ist hoch signifikant (p<<0,05 ist kleiner als $\\alpha$ = 5%). Es besteht auch nach dem Herauspartialisieren der relativen Feuchte ein starker negativer Zusammenhang zwischen der Lufttemperatur und der Stationshöhe.\n",
    "\n",
    "Zur Bewertung des partiellen Korrelationskoeffizienten wird der entsprechende Korrelationskoeffizient mit betrachtet. Für obiges Beispiel liefert der folgende Befehl den Korrelationskoeffizienten für die in der Datentabelle `example_data` enthaltenen Variablen Lufttemperatur und Stationshöhe, der einen signifikanten (p<<0,05; blaue Markierung) und starken negativen ($r_{TH}=-0,952$; orange Markierung) Zusammenhang zeigt:"
   ]
  }
 ],
 "metadata": {
  "kernelspec": {
   "display_name": "R",
   "language": "R",
   "name": "ir"
  },
  "language_info": {
   "codemirror_mode": "r",
   "file_extension": ".r",
   "mimetype": "text/x-r-source",
   "name": "R",
   "pygments_lexer": "r",
   "version": "4.2.1"
  },
  "orig_nbformat": 4
 },
 "nbformat": 4,
 "nbformat_minor": 2
}
