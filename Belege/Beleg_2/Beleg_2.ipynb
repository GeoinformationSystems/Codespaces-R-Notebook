{
 "cells": [
  {
   "cell_type": "markdown",
   "metadata": {},
   "source": [
    "## Abgabe (3 Punkte + Zusatzpunkt -> OPAL)\n",
    "Laden Sie die zur Verfügung gestellten Dateien mit DWD-Daten zu stündlichen Niederschlagsmessungen für Dresden (Stations-ID = 01051) und Hamburg (Stations-ID = 01975) in R ein. Die Dateien enthalten die jeweilige Stations-ID im Namen an letzter Stelle vor der Endung .txt (siehe OPAL). Informationen zur Beschreibung der Messdaten sind in der Datei Metadata_Parameter_rr_stunde_01051.html enthalten.\n",
    "\n",
    "Prüfen Sie dazu vorher in einem Texteditor, in welchem Format die Daten vorliegen und welche Funktion Sie demnach zum Einlesen nutzen sollten.\n",
    "\n",
    "Entfernen Sie für die Daten von Hamburg programmatisch (d. h. mit einer Filterfunktion o. Ä. in R) alle Niederschlagsmessungen mit Fehlerwerten (siehe Hinweise unten). Die Daten von Dresden enthalten keine Fehlerwerte.\n",
    "\n",
    "Berechnen Sie für die Messdaten von Dresden ein Histogramm (absolute Häufigkeiten) und lassen Sie sich die Anzahl der Klassen und die Klassenbreite auf der Konsole ausgeben.\n",
    "Erstellen Sie je ein Histogramm für Dresden und Hamburg, welches die relativen Häufigkeiten darstellt und alle Stunden mit mehr als 0,1 mm und weniger als 3 mm Niederschlag umfassen. Geben Sie im Titel jeweils die Anzahl der Messungen mit n=<Anzahl_der_Messungen> an. Vergleichen Sie die beiden Histogramme und beschreiben Sie kurz Ihre Beobachtungen (1-2 Sätze). Speichern Sie diese in einem PDF- Dokument zusammen mit Screenshots des Plot-Fensters, in denen die beiden Histogramme zu sehen sind.\n",
    "\n",
    "Kommentieren Sie Ihr Skript sinnvoll in deutscher oder englischer Sprache. Laden Sie das R-Skript und das PDF als **ZIP-komprimierten Ordner** in OPAL **(Namenskonvention: Nachname_Vorname_Belegnummer.zip)** bis zum **17.05.2022 (08:00) Uhr** hoch.\n",
    "\n",
    "*Zusatzaufgabe:\n",
    "Implementieren Sie eine For-Schleife, die die Klasse mit der größten absoluten Häufigkeit ermittelt. Geben Sie die Klassennummer (1., 2. oder ...) und die absolute Häufigkeit der enthaltenen Werte an.\n",
    "Hinweise*\n",
    "\n",
    "- Datenlücken werden in den DWD-Daten mit dem Fehlerwert -999 gekennzeichnet\n",
    "- Das Filtern kann mit der Funktion `subset(<Daten>, <Filterbedingung>)` (siehe\n",
    "Beleg 1) erfolgen\n",
    "- Die Anzahl der Klassen ergibt sich aus der Anzahl der Klassengrenzen (breaks) - 1\n",
    "- Die Klassenbreite kann durch die Berechnung der Differenz von erster und zweiter\n",
    "Klassengrenze (breaks) erfolgen, da die Klassen äquidistant sind\n",
    "- Die Anzahl der Elemente in einem Vektor, in diesem Fall einer Spalte der Datentabelle, kann mit der Funktion `length(<NameDesVektors>)` abgefragt werden.\n",
    "\n",
    "\n",
    "- Ermittlung der Klasse mit der größten Häufigkeit:\n",
    "  - Anlegen zweier Variablen für die max. Anzahl und für die Klassennummer (z. B. `maxCounts` und `maxClass`) vor der For-Schleife\n",
    "  - Bedingung(in runden Klammern) der For-Schleife sollte die Funktion `length()` nutzen, die die Länge des Elements counts des Histogramms (Klassenhäufigkeiten) ermittelt\n",
    "  - In der For-Schleife sollte der Wert der zuvor angelegten Variable für die max. Anzahl (z. B. maxCounts) nacheinander mit allen Klassenhäufigkeiten (Werte des Histogramm-Elements counts an der Position i) verglichen werden -> ist der aktuelle Wert größer, dann soll er in der Variable gespeichert werden, der Wert i ist dann in der Variable für die Klassennummer (z. B. maxClass) zu speichern\n",
    "  - Nach der For-Schleife sind die Werte der beiden angelegten Variablen auszugeben (`print, paste`)"
   ]
  }
 ],
 "metadata": {
  "kernelspec": {
   "display_name": "R",
   "language": "R",
   "name": "ir"
  },
  "language_info": {
   "codemirror_mode": "r",
   "file_extension": ".r",
   "mimetype": "text/x-r-source",
   "name": "R",
   "pygments_lexer": "r",
   "version": "4.2.2"
  },
  "orig_nbformat": 4
 },
 "nbformat": 4,
 "nbformat_minor": 2
}
