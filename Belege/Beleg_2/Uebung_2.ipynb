{
 "cells": [
  {
   "cell_type": "markdown",
   "id": "f39751d6",
   "metadata": {},
   "source": [
    "# Beleg 2 – Histogramm\n",
    "\n",
    "### Hinweise zum Dokument:\n",
    "\n",
    "\n",
    "\n",
    "1. `Äquidistante Schrift (monospaced font)` zeigt Codefragmente oder Schlüsselsymbole in R an.\n",
    "2. Texte in spitzen Klammern `< ... >` sind Platzhalter, die durch eigene Namen ersetzt werden sollen.\n",
    "4. Eingerückte Texte mit dem Titel __Tipp__ beschreiben Hinweise, wie Tastenbefehle, die Ihnen bspw. die Arbeit mit Jupyter Notebooks erleichtern können.\n",
    "5. Eingerückte Texte mit dem Titel __Hinweis__ enthalten weiterführende Hinweise, die Sie bei Interesse selbst weiterverfolgen können\n",
    "\n",
    "6. Jupyter Codeblocks zeigen ausführbaren Code an. Ein Codeblock wird mit `strg + enter` ausgeführt (siehe *Kurze Einführung Jupyter Notebooks*)\n",
    "\n",
    "7. Kommentare und Erklärungen zum R-Code werden wie in den R-Skripten selbst mit # gekennzeichnet "
   ]
  },
  {
   "cell_type": "markdown",
   "id": "09810e8a",
   "metadata": {},
   "source": [
    "### Daten einlesen\n",
    "\n",
    "Das Einlesen von Dateien erfolgt über die Funktion `read.<Datenformat>()`. Der entsprechende Funktionsname setzt sich aus diesem Begriff, einem Punkt und dem Typ der einzulesenden Datei zusammen.\n",
    "\n",
    "\n",
    "Die allgemeine Funktion heißt `read.table()`. Wichtig beim Einlesen von Daten ist, dass Feldtrennzeichen (`sep`) und Dezimaltrennzeichen (`dec`) richtig erkannt werden. Diese können als Argument angegeben werden. In den Funktionen `read.csv()` und `read.csv2()` sind diese Argumente bereits für Dateien im CSV-Format (comma- separated values) angepasst. `read.delim()` und `read.delim2()` haben entsprechende Voreinstellungen für Tab-getrennte Daten (z. B. im TXT-Format). \n",
    "\n",
    "Welche Funktion sich für welches Datenformat eignet, ist in der folgenden Tabelle zusammengefasst (und kann auch jederzeit in der Hilfe nachgelesen werden):\n",
    "\n",
    "| Feldtrennzeichen  | Dezimalkennzeichen | Funktion        | Dateiendung |\n",
    "|-------------------|--------------------|-----------------|-------------|\n",
    "| TAB               | . (US-Format)      | `read.delim()`  | z.B. .txt   |\n",
    "| ,                 | . (US-Format)      | `read.csv()`    | .csv        |\n",
    "| TAB               | , (deut. Format)   | `read.delim2()` | z.B. .txt   |\n",
    "| ;                 | , (deut. Format)   | `read.csv2()`   | .csv        |\n",
    "| beliebig (`sep=`) | beliebig (`dec=`)  | `read.table()`  | z.B. .txt   |\n",
    "\n",
    "Welches Datenformat eine Datei hat, lässt sich vor dem Einlesen schnell überprüfen, indem man die Datei in einem einfachen Texteditor (z.B. Windows Editor oder Notepad++) öffnet und hinsichtlich Feld- bzw. Dezimaltrennzeichen kontrolliert.\n",
    "Die Funktion bekommt als Argument den Dateinamen übergeben:\n"
   ]
  },
  {
   "cell_type": "code",
   "execution_count": null,
   "id": "606bf7f1",
   "metadata": {
    "vscode": {
     "languageId": "r"
    }
   },
   "outputs": [],
   "source": [
    "# Führen Sie diesen Codeblock aus!\n",
    "\n",
    "# In das Objekt data wird der Inhalt der CSV-Datei SBA_Zensus_Sterbefaelle.csv (Feldtrennzeichen ;) geschrieben. \n",
    "# Die erste Zeile dieser Datei gibt die Spaltennamen (mit Endung) an:\n",
    "\n",
    "data <- read.csv(file = \"../../Daten/SBA_Zensus_Sterbefaelle.csv\", header=TRUE, sep=\";\")\n"
   ]
  },
  {
   "cell_type": "markdown",
   "id": "5bcb2ec5",
   "metadata": {},
   "source": [
    "> __Tipp__\n",
    ">\n",
    "> Datenpfade können absolut oder relativ angegeben werden. \n",
    "> Dabei ist der absolute Pfad, der volle Pfad im System (in Windows zu finden durch Rechtsklick auf Datei -> Eigenschaften, z.B. `C:/Users/arne/R/Geostatistik/Daten/SBA_Zensus_Sterbefaelle.csv`), während sich der relative Pfad auf den Speicherort der Datei in Bezug zum aktuell geoeffneten Ordner befindet. \n",
    ">\n",
    ">Bei relativen Pfaden bezeichnet `..` den Ordner über dem aktuellen Ordner, d.h. wenn die aktuelle Datei im Ordner `Beleg_2` mit dem Pfad `C:/Users/arne/R/Geostatistik/Beleg_2` liegt, bedeutet `..` `C:/Users/arne/R/Geostatistik/`. Damit ergibt sich der relative Pfad zur Datei `SBA_Zensus_Sterbefaelle.csv` mit `../Daten/SBA_Zensus_Sterbefaelle.csv`.\n",
    ">\n",
    ">Allgemein sind relative Pfade zu bevorzugen, da somit eine Ordnerstruktur an einen anderen Ort (z.B. auf einen andern Rechner) kopiert werden kann und die enthaltenen Scripte immernoch funktionieren."
   ]
  },
  {
   "cell_type": "markdown",
   "id": "dae9c65b",
   "metadata": {},
   "source": [
    "Die eingelesene Tabelle wird als dataframe gespeichert.\n",
    "\n",
    "Über `print(<Variablenname>)` lässt sich die ganze Tabelle anzeigen.\n",
    "Um sich nur die ersten bzw. letzten 6 Zeilen einer Datentabelle in der Konsole anzusehen (beispielsweise um zu kontrollieren, ob das Einlesen funktioniert hat), können die Funktionen `head(<Variablenname>)` bzw. `tail(<Variablenname>)` genutzt werden.\n"
   ]
  },
  {
   "cell_type": "code",
   "execution_count": null,
   "id": "00724e9d",
   "metadata": {
    "vscode": {
     "languageId": "r"
    }
   },
   "outputs": [],
   "source": [
    "# Führen Sie diesen Codeblock aus!\n",
    "\n",
    "head(data)"
   ]
  },
  {
   "cell_type": "markdown",
   "id": "1b8f174f",
   "metadata": {},
   "source": [
    "Über den Parameter `header` kann definiert werden, ob die erste Zeile Spaltennamen enthält oder nicht. Der Parameter ist optional und wird, wenn nicht explizit angegeben, für `read.table()` auf FALSE gesetzt. Die Standardeinstellungen für `read.csv()`, `read.delim()`, etc. finden Sie in der R-Hilfe."
   ]
  },
  {
   "cell_type": "markdown",
   "id": "56c30755",
   "metadata": {},
   "source": [
    "### Erstellen eines Histogramms\n",
    "Mit der Funktion `hist(<dataframe>)` wird in R ein Histogramm erstellt.\n",
    "#### Absolute Häufigkeiten\n",
    "\n",
    "Erstellen Sie ein Histogramm für die Werte der relativen Luftfeuchte der Wettermessstation mit der ID 1684. Laden Sie dazu zunächst die Datei `Wetter_Station1684.csv` (befindet sich im Ordner `Daten`) in einen R-DataFrame. Die Werte der relativen Leuftfeuchte befinden sich in der Spalte `RF_TU`."
   ]
  },
  {
   "cell_type": "code",
   "execution_count": null,
   "id": "7e42a34b",
   "metadata": {
    "vscode": {
     "languageId": "r"
    }
   },
   "outputs": [],
   "source": [
    "# Passen Sie diesen Codeblock an und führen Sie ihn anschliessend aus!\n",
    "\n",
    "weather_data <- read.csv(file = ..., header = ..., sep = ...)\n",
    "hist(weather_data$RF_TU)"
   ]
  },
  {
   "cell_type": "markdown",
   "id": "60169dcb",
   "metadata": {},
   "source": [
    "Achsen und Namen des Histogramms können angepasst werden. Dazu wird der obige Befehl um die Argumente `main`, `xlab` und `ylab` (jeweils mit Komma getrennt) ergänzt (Hier ist der Titel Temperaturhäufigkeiten):"
   ]
  },
  {
   "cell_type": "code",
   "execution_count": null,
   "id": "0d03c27b",
   "metadata": {
    "vscode": {
     "languageId": "r"
    }
   },
   "outputs": [],
   "source": [
    "# Führen Sie diesen Codeblock aus!\n",
    "\n",
    "hist(weather_data$RF_TU, main = \"Station 1684\", xlab = \"Luftfeuchtigkeit in %\", ylab = \"Absolute Häufigkeit\")"
   ]
  },
  {
   "cell_type": "markdown",
   "id": "ab93b67b",
   "metadata": {},
   "source": [
    "Anhand der Darstellung kann, wie in der Vorlesung beschrieben, ein erster (visueller) Eindruck über die Verteilung der Werte erfolgen.\n",
    "\n",
    "\n",
    "Das Histogramm besteht nicht nur aus der Visualisierung, sondern auch aus verschiedenen Werten. Diese sind in einer Liste mit sechs Einträgen zu Klassengrenzen (breaks), absoluten Häufigkeiten der Klassenbelegung (counts), Dichteverteilung der Klasse (density), Mitten der Klassen (mids), Namen der Tabellenspalte, für die das Histogramm berechnet wird (xname), und Angaben zur Äquidistanz der Klassen (equidist) enthalten.\n",
    "\n",
    "Um mit diesen Werten arbeiten zu können, muss das Histogramm also in einer Variablen gespeichert werden, z. B. so:"
   ]
  },
  {
   "cell_type": "code",
   "execution_count": null,
   "id": "607fcc7d",
   "metadata": {
    "vscode": {
     "languageId": "r"
    }
   },
   "outputs": [],
   "source": [
    "# Anlegen einer Variablen hist_station1684 und Zuweisung der Werte des Histogramms\n",
    "\n",
    "hist_stationX <- hist(weather_data$RF_TU, main = \"Station 1684\", xlab = \"Luftfeuchtigkeit in %\", ylab = \"Absolute Häufigkeit\")"
   ]
  },
  {
   "cell_type": "markdown",
   "id": "b1a578dd",
   "metadata": {},
   "source": [
    "Mit dem Zeichen `$` wird auf die Elemente des Histogramms zugegriffen:\n",
    "`<meinHistogrammName>$<Element>`.\n",
    "Auf die Klassengrenzen (breaks) für das Histogramm mit dem Namen `hist_StationX` wird so zugegriffen: `hist_stationX$breaks`. Analog wird auf die Anzahl der Klassenbelegung (counts) mittels `hist_stationX$counts` zugegriffen.\n",
    "Auf die einzelnen Werte in den Elementen (Vektoren) des Histogramms wird mit den Zeichen `<HistogrammName>$<Variablenname>[<PositionDesWertes>]` zugegriffen. Der erste Wert im Vektor breaks wird bspw. mit `hist_stationX$breaks[1]` abgefragt, der zweite Wert mit `hist_stationX$breaks[2]` usw."
   ]
  },
  {
   "cell_type": "code",
   "execution_count": null,
   "id": "e28e3ee6",
   "metadata": {
    "vscode": {
     "languageId": "r"
    }
   },
   "outputs": [],
   "source": [
    "# Führen Sie diesen Codeblock aus!\n",
    "\n",
    "hist_stationX$breaks\n",
    "hist_stationX$counts\n",
    "hist_stationX$breaks[1]"
   ]
  },
  {
   "cell_type": "markdown",
   "id": "4bdafe3b",
   "metadata": {},
   "source": [
    "#### Relative Häufigkeiten\n",
    "Um nicht die absoluten, sondern die relativen Häufigkeiten darzustellen, muss das Argument `freq` (frequency) auf `FALSE` oder `F` gesetzt werden. In diesem Fall muss immer die Anzahl der Elemente der verwendeten Stichprobe (n) mit angegeben werden."
   ]
  },
  {
   "cell_type": "code",
   "execution_count": null,
   "id": "889efc57",
   "metadata": {
    "vscode": {
     "languageId": "r"
    }
   },
   "outputs": [],
   "source": [
    "# length(...) gibt die Anzahl der Elemente in einem Vektor an (hier die Anzahl der Einträge in der Spalte RF_TU)\n",
    "\n",
    "hist(weather_data$RF_TU, main = paste(\"1684 ; n =\", length(weather_data$RF_TU)), xlab = \"Luftfeuchte in %\", ylab = \"Relative Häufigkeit\", freq = FALSE)\n"
   ]
  },
  {
   "cell_type": "markdown",
   "id": "ac6245d5",
   "metadata": {},
   "source": [
    "### Kontrollstrukturen\n",
    "Kontrollstrukturen können verwendet werden, um den Ablauf von Skripten zu steuern. Sie sind entweder Verzweigungen oder Schleifen.\n",
    "\n",
    "In Schleifen können Vorgänge beschrieben werden, die wiederholt werden, bis eine bestimmte Bedingung erfüllt ist. Es gibt For- und While-Schleifen. In dieser Übung werden nur For-Schleifen verwendet.\n",
    "#### For-Schleifen\n",
    "Die For-Schleife hat folgende Struktur:\n",
    "```R\n",
    "\n",
    "for (bedingung) {\n",
    "     inhalt_der_schleife\n",
    "}\n",
    "```\n",
    "\n",
    "In folgendem Beispiel werden die monatlichen Todesfälle im Jahr 1990 aufsummiert. Start- und Endmonat werden als Variablen angegeben. Anschließend wird die Summe durch die Anzahl der Monate geteilt, d. h. das arithmetische Mittel ausgerechnet."
   ]
  },
  {
   "cell_type": "code",
   "execution_count": null,
   "id": "8c23a07a",
   "metadata": {
    "vscode": {
     "languageId": "r"
    }
   },
   "outputs": [],
   "source": [
    "# Führen Sie diesen Codeblock aus!\n",
    "\n",
    "# Anlegen einer Variablen deaths1990 mit 12 numerischen Einträgen \n",
    "# (Todesfälle pro 1000 Einwohner für jeden Monat im Jahr 1990 in Vektor)\n",
    "deaths1990 <- c (13.9, 12.9, 11.7, 11.6, 11.0, 11.0, 10.5, 10.7, 11, 11.3, 11.4, 12.2)\n",
    "\n",
    "# Anlegen einer Variablen sumDeathsValue mit dem Wert 0 \n",
    "sumDeathsValue <- 0\n",
    "\n",
    "# Anlegen einer Start- und Endvariablen\n",
    "startMonth <- 1\n",
    "endMonth <- 5"
   ]
  },
  {
   "cell_type": "code",
   "execution_count": null,
   "id": "15990708",
   "metadata": {
    "vscode": {
     "languageId": "r"
    }
   },
   "outputs": [],
   "source": [
    "# Führen Sie diesen Codeblock aus!\n",
    "\n",
    "# Wiederhole die Addition i-mal von Start- bis Endmonat \n",
    "# und gib die Zwischenergebnisse auf der Konsole aus \n",
    "for(i in startMonth:endMonth){\n",
    "# Addiere zum Wert der Variable sumDeathsValue den Wert von #deaths1990 an der Stelle i\n",
    "sumDeathsValue <- sumDeathsValue + deaths1990[i] \n",
    "    print(paste(\"Summe von Monat\", startMonth, \"bis Monat\", i, \":\", sumDeathsValue))\n",
    "}"
   ]
  },
  {
   "cell_type": "markdown",
   "id": "2af94a5c",
   "metadata": {},
   "source": [
    "> __Tipp__\n",
    ">\n",
    "> Die Funktion `paste()` verbindet die übergebenen Variablen und Textabschnitte zu einem zusammenhängenden Text, der dann z. B. mit `print()` auf der Konsole ausgegeben werden kann. Zwischen den übergebenen Elementen wird automatisch ein Leerzeichen eingefügt."
   ]
  },
  {
   "cell_type": "code",
   "execution_count": null,
   "id": "59634d64",
   "metadata": {
    "vscode": {
     "languageId": "r"
    }
   },
   "outputs": [],
   "source": [
    "# Führen Sie diesen Codeblock aus!\n",
    "\n",
    "# Anlegen einer Variablen mit der Anzahl der Monate \n",
    "numberOfMonths <- endMonth - startMonth + 1\n",
    "\n",
    "# Berechnung des arithmetischen Mittels \n",
    "meanDeathsValue <- sumDeathsValue / numberOfMonths\n",
    "\n",
    "print(numberOfMonths)\n",
    "print(meanDeathsValue)"
   ]
  },
  {
   "cell_type": "markdown",
   "id": "b6ed1ad8",
   "metadata": {},
   "source": [
    "#### If-Else-Abfragen\n",
    "Fallunterscheidungen werden mithilfe von If- bzw. If-Else-Anweisungen ausgedrückt. Die Struktur sieht wie folgt aus:\n",
    "```R\n",
    "\n",
    "if (bedingung) {\n",
    "     befehle_wenn_bedingung_erfüllt_ist\n",
    "} else { befehle_wenn_bedingung_nicht_erfüllt_ist }\n",
    "```\n",
    "\n",
    "Der folgende Code überprüft, ob die Anzahl der im Januar verstorbenen Personen (Element an 1. Position im Vektor deaths1990 größer ist als die im Februar (2. Position) und gibt einen entsprechenden Hinweis und die jeweils größere Anzahl der Verstorbenen aus.\n"
   ]
  },
  {
   "cell_type": "code",
   "execution_count": null,
   "id": "670bc827",
   "metadata": {
    "vscode": {
     "languageId": "r"
    }
   },
   "outputs": [],
   "source": [
    "# Führen Sie diesen Codeblock aus! \n",
    "\n",
    "# Anlegen eines numerischen Vektors\n",
    "deaths1990 <- c (13.9, 12.9, 11.7, 11.6, 11.0, 11.0, 10.5, 10.7, 11, 11.3, 11.4, 12.2) # deaths per 1000 citizens in 1990\n",
    "if (deaths1990[1] > deaths1990[2]) {\n",
    "     # Wenn ja, dann schreibe Folgendes auf die Konsole\n",
    "print(paste(paste(\"Im Januar sind mehr Personen gestorben als im Februar. Die Anzahl beträgt\", deaths1990[1]), \"pro 1000 Einwohner.\"))\n",
    "} else {\n",
    "         # Wenn nicht, dann schreibe auf der Konsole ...\n",
    "print(paste(paste(\"Im Januar sind mehr Personen gestorben als im Februar. Die Anzahl beträgt\", deaths1990[2]), \"pro 1000 Einwohner.\"))\n",
    "}\n"
   ]
  },
  {
   "cell_type": "markdown",
   "id": "50f96ef4",
   "metadata": {},
   "source": [
    ">__Tipp__\n",
    ">\n",
    ">Für For- (und While-) Schleifen sowie If-Else-Anweisungen besteht die Möglichkeit, die geschweiften Klammern wegzulassen, wenn der Ausdruck im Schleifenrumpf bzw. nach der Bedingung nur eine Zeile Code umfasst. Die obige Bedingung sieht in Kurzschreibweise wie folgt aus:"
   ]
  },
  {
   "cell_type": "code",
   "execution_count": null,
   "id": "fdb22a53",
   "metadata": {
    "vscode": {
     "languageId": "r"
    }
   },
   "outputs": [],
   "source": [
    "# Führen Sie diesen Codeblock aus!\n",
    "\n",
    "if (deaths1990[1] > deaths1990[2]){\n",
    "print(paste(paste(\"Im Januar sind mehr Personen gestorben als im Februar. Die Anzahl beträgt\", deaths1990[1]), \"pro 1000 Einwohner.\"))\n",
    " } else {\n",
    "     # Wenn nicht, dann schreibe auf der Konsole ...\n",
    "print(paste(paste(\"Im Januar sind mehr Personen gestorben als im Februar. Die Anzahl beträgt\", deaths1990[2]), \"pro 1000 Einwohner.\"))\n",
    " }"
   ]
  },
  {
   "cell_type": "markdown",
   "id": "7ca503ee",
   "metadata": {},
   "source": [
    "> __Hinweis__\n",
    ">\n",
    "> Oben wurde die Operation `paste()` zweimal hintereinander angewandt um eine Variable in die Mitte eines Strings zu integrieren. Um solche Konstrukte zu vermeiden und den Quellcode \"schöner\" zu gestalten, bietet R die Möglichkeit des C-Style-Formatting. Dabei wird zunächst der auszugebende String geschrieben und an die Stelle der einzusetztenden Variable wird ein Platzhalter - beginnenden mit dem Symbol `%` - gesetzt. Nach dem String folgt ein Komma und die entsprechende Variable. Ein C-Style-Formatted String kann mittels `sprintf()` ausgegeben werden. Für das obere Beispiel ergibt sich:\n",
    "> \n",
    "> `sprintf(\"Im Februar gab es mehr Tote. Die Anzahl beträgt %s pro 1000 Einwohner.\", deaths1990[1])`\n",
    "> \n",
    "> Das `s` hinter dem `%` bestimmt den Datentyp der einzusetzenden Variable, wobei `s` für String steht. Der Platzhalter ist also immer eine Kombination aus dem einleitenden `%` und einem Datentypsymbol (hier also `%s`). Weitere Platzhalter sind `%d` fuer Integer oder `%f` für eine Dezimalzahl mit sechs Kommastellen. Soll der Text ein Prozentzeichen enthalten, kann dies mit einem doppelt Prozentsymbol erreicht werden: \n",
    "> \n",
    "> `sprintf(\"Die Sterberate beträgt %s %%.\", deaths1990[1]/10)`\n",
    "> \n",
    ">  Weiterführende Informationen finden Sie z.B. unter [https://www.gastonsanchez.com/r4strings/c-style-formatting.html]."
   ]
  },
  {
   "cell_type": "markdown",
   "id": "49ee4e14",
   "metadata": {},
   "source": [
    "#### Logische Operatoren\n",
    "Mit Hilfe von logischen Operatoren können mehrere Bedingungen miteinander verknüpft werden.\n",
    "\n",
    "| Operator | Bedeutung       | Beispiel                                                        |\n",
    "|----------|-----------------|-----------------------------------------------------------------|\n",
    "| &        | Logisches UND   | `if(a<b&b<c){print( \" a kleiner c \" ) }`                      |\n",
    "| \\|       | Logisches ODER  | `if (a<b \\| a<c) { print ( \" a ist nicht der größte Wert \" ) }` |\n",
    "| !        | Logisches NICHT | `if (!a==6) { print( \" a ist nicht 6 \" ) }`                     |"
   ]
  }
 ],
 "metadata": {
  "kernelspec": {
   "display_name": "R",
   "language": "R",
   "name": "ir"
  },
  "language_info": {
   "codemirror_mode": "r",
   "file_extension": ".r",
   "mimetype": "text/x-r-source",
   "name": "R",
   "pygments_lexer": "r",
   "version": "4.2.2"
  },
  "vscode": {
   "interpreter": {
    "hash": "d4d1e4263499bec80672ea0156c357c1ee493ec2b1c70f0acce89fc37c4a6abe"
   }
  }
 },
 "nbformat": 4,
 "nbformat_minor": 5
}
